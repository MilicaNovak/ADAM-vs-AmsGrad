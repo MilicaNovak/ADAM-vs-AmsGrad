{
 "cells": [
  {
   "cell_type": "markdown",
   "metadata": {
    "colab_type": "text",
    "id": "nb49jUQXHpzg"
   },
   "source": [
    "### First cell can be skipped if you are not working with: https://colab.research.google.com/"
   ]
  },
  {
   "cell_type": "code",
   "execution_count": 1,
   "metadata": {
    "colab": {
     "autoexec": {
      "startup": false,
      "wait_interval": 0
     },
     "base_uri": "https://localhost:8080/",
     "height": 423
    },
    "colab_type": "code",
    "executionInfo": {
     "elapsed": 50965,
     "status": "ok",
     "timestamp": 1526937972460,
     "user": {
      "displayName": "Milica Novakovic",
      "photoUrl": "//lh6.googleusercontent.com/-PdM9ODluhz0/AAAAAAAAAAI/AAAAAAAAABc/XV0m45-1Nmw/s50-c-k-no/photo.jpg",
      "userId": "110546638424582068159"
     },
     "user_tz": -120
    },
    "id": "StSLCGlXG2vw",
    "outputId": "2ca12fed-7abb-4be0-a4ba-7bf8bd2abf67"
   },
   "outputs": [
    {
     "name": "stdout",
     "output_type": "stream",
     "text": [
      "Collecting torch==0.3.1 from http://download.pytorch.org/whl/cu90/torch-0.3.1-cp36-cp36m-linux_x86_64.whl\n",
      "\u001b[?25l  Downloading http://download.pytorch.org/whl/cu90/torch-0.3.1-cp36-cp36m-linux_x86_64.whl (547.8MB)\n",
      "\u001b[K    78% |█████████████████████████       | 429.7MB 32.7MB/s eta 0:00:04\u001b[K    100% |████████████████████████████████| 547.8MB 25.5MB/s \n",
      "\u001b[?25hRequirement already satisfied: numpy in /usr/local/lib/python3.6/dist-packages (from torch==0.3.1) (1.14.3)\n",
      "Requirement already satisfied: pyyaml in /usr/local/lib/python3.6/dist-packages (from torch==0.3.1) (3.12)\n",
      "Installing collected packages: torch\n",
      "Successfully installed torch-0.3.1\n",
      "Collecting torchvision\n",
      "\u001b[?25l  Downloading https://files.pythonhosted.org/packages/ca/0d/f00b2885711e08bd71242ebe7b96561e6f6d01fdb4b9dcf4d37e2e13c5e1/torchvision-0.2.1-py2.py3-none-any.whl (54kB)\n",
      "\u001b[K    100% |████████████████████████████████| 61kB 2.1MB/s \n",
      "\u001b[?25hCollecting pillow>=4.1.1 (from torchvision)\n",
      "\u001b[?25l  Downloading https://files.pythonhosted.org/packages/5f/4b/8b54ab9d37b93998c81b364557dff9f61972c0f650efa0ceaf470b392740/Pillow-5.1.0-cp36-cp36m-manylinux1_x86_64.whl (2.0MB)\n",
      "\u001b[K    100% |████████████████████████████████| 2.0MB 8.0MB/s \n",
      "\u001b[?25hRequirement already satisfied: six in /usr/local/lib/python3.6/dist-packages (from torchvision) (1.11.0)\n",
      "Requirement already satisfied: numpy in /usr/local/lib/python3.6/dist-packages (from torchvision) (1.14.3)\n",
      "Requirement already satisfied: torch in /usr/local/lib/python3.6/dist-packages (from torchvision) (0.3.1)\n",
      "Requirement already satisfied: pyyaml in /usr/local/lib/python3.6/dist-packages (from torch->torchvision) (3.12)\n",
      "Installing collected packages: pillow, torchvision\n",
      "  Found existing installation: Pillow 4.0.0\n",
      "    Uninstalling Pillow-4.0.0:\n",
      "      Successfully uninstalled Pillow-4.0.0\n",
      "Successfully installed pillow-5.1.0 torchvision-0.2.1\n"
     ]
    }
   ],
   "source": [
    "!pip3 install http://download.pytorch.org/whl/cu90/torch-0.3.1-cp36-cp36m-linux_x86_64.whl \n",
    "!pip3 install torchvision"
   ]
  },
  {
   "cell_type": "code",
   "execution_count": 1,
   "metadata": {
    "colab": {
     "autoexec": {
      "startup": false,
      "wait_interval": 0
     }
    },
    "colab_type": "code",
    "id": "KPWyJyGAHNCI"
   },
   "outputs": [],
   "source": [
    "import torch\n",
    "import math\n",
    "import os\n",
    "\n",
    "from torch import optim\n",
    "from torch import Tensor\n",
    "from torch.autograd import Variable\n",
    "from torch import nn\n",
    "from torchvision import datasets\n",
    "import torchvision.transforms as transforms"
   ]
  },
  {
   "cell_type": "code",
   "execution_count": 2,
   "metadata": {
    "colab": {
     "autoexec": {
      "startup": false,
      "wait_interval": 0
     }
    },
    "colab_type": "code",
    "id": "J8L8debuHPOC"
   },
   "outputs": [],
   "source": [
    "def create_mnist_model():\n",
    "  return nn.Sequential(\n",
    "      nn.Linear(784, 100),\n",
    "      nn.ReLU(),\n",
    "      nn.Linear(100, 10)\n",
    "  )\n",
    "\n",
    "def train_model_sgd(model, train_input, train_target, nb_epochs = 150, mini_batch_size = 100, lr = 1e-1):\n",
    "  criterion = nn.CrossEntropyLoss()\n",
    "  optimizer = optim.SGD(model.parameters(), lr)\n",
    "\n",
    "  for e in range(0, nb_epochs):\n",
    "      for b in range(0, train_input.size(0), mini_batch_size):\n",
    "          output = model(train_input.narrow(0, b, mini_batch_size))\n",
    "          loss = criterion(output, train_target.narrow(0, b, mini_batch_size))\n",
    "          model.zero_grad()\n",
    "          loss.backward()\n",
    "          optimizer.step()\n",
    "\n",
    "def train_model_adam(model, train_input, train_target, nb_epochs = 150, mini_batch_size = 100, lr = 1e-3, beta1 = 0.9, beta2 = 0.999):\n",
    "  criterion = nn.CrossEntropyLoss()\n",
    "  optimizer = optim.Adam(model.parameters(), lr, betas = (beta1,beta2))\n",
    "\n",
    "  for e in range(0, nb_epochs):\n",
    "      for b in range(0, train_input.size(0), mini_batch_size):\n",
    "          output = model(train_input.narrow(0, b, mini_batch_size))\n",
    "          loss = criterion(output, train_target.narrow(0, b, mini_batch_size))\n",
    "          model.zero_grad()\n",
    "          loss.backward()\n",
    "          optimizer.step()\n",
    "\n",
    "def train_model_amsgrad(model, train_input, train_target, nb_epochs = 150, mini_batch_size = 100, lr = 1e-3, beta1 = 0.9, beta2 = 0.999):\n",
    "  criterion = nn.CrossEntropyLoss()\n",
    "  optimizer = optim.Adam(model.parameters(), lr, betas = (beta1,beta2), amsgrad = True)\n",
    "\n",
    "  for e in range(0, nb_epochs):\n",
    "      for b in range(0, train_input.size(0), mini_batch_size):\n",
    "          output = model(train_input.narrow(0, b, mini_batch_size))\n",
    "          loss = criterion(output, train_target.narrow(0, b, mini_batch_size))\n",
    "          model.zero_grad()\n",
    "          loss.backward()\n",
    "          optimizer.step()\n",
    "          \n",
    "def compute_prc_errors(model, data_input, data_target, mini_batch_size = 100, test_prc = False):\n",
    "  nb_data_errors = 0\n",
    "  \n",
    "  for b in range(0, data_input.size(0), mini_batch_size):\n",
    "      output = model(data_input.narrow(0, b, mini_batch_size))\n",
    "      _, predicted_classes = torch.max(output.data, 1)\n",
    "      for k in range(0, mini_batch_size):\n",
    "          if data_target.data[b + k] != predicted_classes[k]:\n",
    "              nb_data_errors = nb_data_errors + 1\n",
    "              \n",
    "  # compute error rate for train/test set depending on flag test_prc\n",
    "  if (test_prc):\n",
    "    percentage = nb_data_errors/test_input.size(0) * 100\n",
    "  else:\n",
    "    percentage = nb_data_errors/train_input.size(0) * 100\n",
    "  return percentage\n",
    "\n",
    "def print_errors(mini_batch_size = 100):\n",
    "  train_percent = compute_prc_errors(model, train_input, train_target,  mini_batch_size, test_prc = False)\n",
    "  print('train error = {:0.2f}%'.format(train_percent))\n",
    "  test_percent = compute_prc_errors(model, test_input, test_target, mini_batch_size, test_prc = True)\n",
    "  print('test error = {:0.2f}%'.format(test_percent))"
   ]
  },
  {
   "cell_type": "code",
   "execution_count": 3,
   "metadata": {
    "colab": {
     "autoexec": {
      "startup": false,
      "wait_interval": 0
     }
    },
    "colab_type": "code",
    "id": "L5g642XXVn_1"
   },
   "outputs": [],
   "source": [
    "def get_data():\n",
    "  \n",
    "  root = './data'\n",
    "  if not os.path.exists(root):\n",
    "    os.mkdir(root)\n",
    "\n",
    "  mnist_train_set = datasets.MNIST(root = root, train = True, download = True)\n",
    "  mnist_test_set = datasets.MNIST(root = root, train = False, download = True)\n",
    "#   train_loader = torch.utils.data.DataLoader(dataset=mnist_train_set, batch_size=mini_batch_size, shuffle=True)\n",
    "#   test_loader = torch.utils.data.DataLoader(dataset=mnist_test_set, batch_size=mini_batch_size, shuffle=True)\n",
    "\n",
    "  train_input = mnist_train_set.train_data.view(mnist_train_set.train_data.size(0),-1).float()\n",
    "  train_target = mnist_train_set.train_labels\n",
    "  test_input = mnist_test_set.test_data.view(mnist_test_set.test_data.size(0),-1).float()\n",
    "  test_target = mnist_test_set.test_labels\n",
    "  print(\"train_input.size(0)\", train_input.size(0))\n",
    "  print(\"test_input.size(0)\", test_input.size(0))\n",
    "  \n",
    "  return train_input, train_target, test_input, test_target\n"
   ]
  },
  {
   "cell_type": "code",
   "execution_count": 4,
   "metadata": {
    "colab": {
     "autoexec": {
      "startup": false,
      "wait_interval": 0
     }
    },
    "colab_type": "code",
    "id": "zL4E-clQn9UF"
   },
   "outputs": [],
   "source": [
    "def get_data_old():\n",
    "  \n",
    "  root = './data'\n",
    "  if not os.path.exists(root):\n",
    "    os.mkdir(root)\n",
    "\n",
    "  trans = transforms.Compose([transforms.ToTensor(), transforms.Normalize((0.5,), (1.0,))])\n",
    "  mnist_train_set = datasets.MNIST(root = root, train = True, transform = trans, download = True)\n",
    "  mnist_test_set = datasets.MNIST(root = root, train = False, transform = trans, download = True)\n",
    "#   train_loader = torch.utils.data.DataLoader(dataset=mnist_train_set, batch_size=mini_batch_size, shuffle=True)\n",
    "#   test_loader = torch.utils.data.DataLoader(dataset=mnist_test_set, batch_size=mini_batch_size, shuffle=True)\n",
    "\n",
    "  train_input = mnist_train_set.train_data.view(mnist_train_set.train_data.size(0),-1).float()\n",
    "  train_target = mnist_train_set.train_labels\n",
    "  test_input = mnist_test_set.test_data.view(mnist_test_set.test_data.size(0),-1).float()\n",
    "  test_target = mnist_test_set.test_labels\n",
    "  print(\"train_input.size(0)\", train_input.size(0))\n",
    "  print(\"test_input.size(0)\", test_input.size(0))\n",
    "  \n",
    "  return train_input, train_target, test_input, test_target"
   ]
  },
  {
   "cell_type": "markdown",
   "metadata": {
    "colab_type": "text",
    "id": "bPMCm1BSfeOa"
   },
   "source": [
    "Load the train and test data for MNIST dataset, normalize"
   ]
  },
  {
   "cell_type": "code",
   "execution_count": 5,
   "metadata": {
    "colab": {
     "autoexec": {
      "startup": false,
      "wait_interval": 0
     },
     "base_uri": "https://localhost:8080/",
     "height": 157
    },
    "colab_type": "code",
    "executionInfo": {
     "elapsed": 2183,
     "status": "ok",
     "timestamp": 1526938496796,
     "user": {
      "displayName": "Milica Novakovic",
      "photoUrl": "//lh6.googleusercontent.com/-PdM9ODluhz0/AAAAAAAAAAI/AAAAAAAAABc/XV0m45-1Nmw/s50-c-k-no/photo.jpg",
      "userId": "110546638424582068159"
     },
     "user_tz": -120
    },
    "id": "JwTLc_4_faq_",
    "outputId": "8a3bf2c8-9f26-4165-efec-600d57a56568"
   },
   "outputs": [
    {
     "name": "stdout",
     "output_type": "stream",
     "text": [
      "Downloading http://yann.lecun.com/exdb/mnist/train-images-idx3-ubyte.gz\n",
      "Downloading http://yann.lecun.com/exdb/mnist/train-labels-idx1-ubyte.gz\n",
      "Downloading http://yann.lecun.com/exdb/mnist/t10k-images-idx3-ubyte.gz\n",
      "Downloading http://yann.lecun.com/exdb/mnist/t10k-labels-idx1-ubyte.gz\n",
      "Processing...\n",
      "Done!\n",
      "train_input.size(0) 60000\n",
      "test_input.size(0) 10000\n"
     ]
    }
   ],
   "source": [
    "train_input, train_target, test_input, test_target = get_data()\n",
    "# normalize the data\n",
    "mean, std = train_input.mean(), train_input.std()\n",
    "train_input.sub_(mean).div_(std)\n",
    "test_input.sub_(mean).div_(std)\n",
    "\n",
    "# converting Tensors into Variables before using themin model\n",
    "train_input = Variable(train_input)\n",
    "train_target = Variable(train_target)\n",
    "test_input = Variable(test_input)\n",
    "test_target = Variable(test_target)"
   ]
  },
  {
   "cell_type": "markdown",
   "metadata": {
    "colab_type": "text",
    "id": "PeydXXFOijmG"
   },
   "source": [
    "Train the model with specific set of parameters, i.e lr=0.1, , it takes so much time, like 2 min GPU"
   ]
  },
  {
   "cell_type": "code",
   "execution_count": 6,
   "metadata": {
    "colab": {
     "autoexec": {
      "startup": false,
      "wait_interval": 0
     }
    },
    "colab_type": "code",
    "id": "Z4Ul4svnH8Qo"
   },
   "outputs": [],
   "source": [
    "model = create_mnist_model()\n",
    "if torch.cuda.is_available():\n",
    "  model = model.cuda()\n",
    "  train_input, train_target,test_input, test_target= train_input.cuda(), train_target.cuda(),test_input.cuda(), test_target.cuda()\n",
    "nb_epochs = 150\n",
    "mini_batch = 100\n",
    "lr = 1e-1\n",
    "\n",
    "train_model_sgd(model, train_input, train_target, nb_epochs = nb_epochs, mini_batch_size = mini_batch, lr = lr)"
   ]
  },
  {
   "cell_type": "markdown",
   "metadata": {
    "colab_type": "text",
    "id": "M2WuHVFXisZF"
   },
   "source": [
    "Print error rate on train and test set"
   ]
  },
  {
   "cell_type": "code",
   "execution_count": 7,
   "metadata": {
    "colab": {
     "autoexec": {
      "startup": false,
      "wait_interval": 0
     },
     "base_uri": "https://localhost:8080/",
     "height": 52
    },
    "colab_type": "code",
    "executionInfo": {
     "elapsed": 6233,
     "status": "ok",
     "timestamp": 1526938968142,
     "user": {
      "displayName": "Milica Novakovic",
      "photoUrl": "//lh6.googleusercontent.com/-PdM9ODluhz0/AAAAAAAAAAI/AAAAAAAAABc/XV0m45-1Nmw/s50-c-k-no/photo.jpg",
      "userId": "110546638424582068159"
     },
     "user_tz": -120
    },
    "id": "JPXW_F54hW53",
    "outputId": "1a5cec75-d2d2-40a9-f42f-959211ef6e99"
   },
   "outputs": [
    {
     "name": "stdout",
     "output_type": "stream",
     "text": [
      "train error = 0.00%\n",
      "test error = 2.07%\n"
     ]
    }
   ],
   "source": [
    "# nb_epochs = 150, mini_batch = 100, lr = 1e-1\n",
    "print_errors(mini_batch)"
   ]
  },
  {
   "cell_type": "markdown",
   "metadata": {
    "colab_type": "text",
    "id": "WFGCv7jri9v0"
   },
   "source": [
    "Train with new learning rates"
   ]
  },
  {
   "cell_type": "code",
   "execution_count": 8,
   "metadata": {
    "colab": {
     "autoexec": {
      "startup": false,
      "wait_interval": 0
     },
     "base_uri": "https://localhost:8080/",
     "height": 52
    },
    "colab_type": "code",
    "executionInfo": {
     "elapsed": 129321,
     "status": "ok",
     "timestamp": 1526939102056,
     "user": {
      "displayName": "Milica Novakovic",
      "photoUrl": "//lh6.googleusercontent.com/-PdM9ODluhz0/AAAAAAAAAAI/AAAAAAAAABc/XV0m45-1Nmw/s50-c-k-no/photo.jpg",
      "userId": "110546638424582068159"
     },
     "user_tz": -120
    },
    "id": "AVCNbO0FVfd9",
    "outputId": "cb1c552d-69b0-4c9e-d603-7a48b1104210"
   },
   "outputs": [
    {
     "name": "stdout",
     "output_type": "stream",
     "text": [
      "train error = 0.00%\n",
      "test error = 2.08%\n"
     ]
    }
   ],
   "source": [
    "# nb_epochs = 150, mini_batch = 100, lr = 1e-2\n",
    "lr = 1e-2\n",
    "train_model_sgd(model, train_input, train_target, nb_epochs = nb_epochs, mini_batch_size = mini_batch, lr = lr)\n",
    "print_errors(mini_batch)"
   ]
  },
  {
   "cell_type": "code",
   "execution_count": 9,
   "metadata": {
    "colab": {
     "autoexec": {
      "startup": false,
      "wait_interval": 0
     },
     "base_uri": "https://localhost:8080/",
     "height": 52
    },
    "colab_type": "code",
    "executionInfo": {
     "elapsed": 131282,
     "status": "ok",
     "timestamp": 1526939282742,
     "user": {
      "displayName": "Milica Novakovic",
      "photoUrl": "//lh6.googleusercontent.com/-PdM9ODluhz0/AAAAAAAAAAI/AAAAAAAAABc/XV0m45-1Nmw/s50-c-k-no/photo.jpg",
      "userId": "110546638424582068159"
     },
     "user_tz": -120
    },
    "id": "7qaVzYnDe5eW",
    "outputId": "dc6fe1cb-ff27-454a-a9ea-331c90267645"
   },
   "outputs": [
    {
     "name": "stdout",
     "output_type": "stream",
     "text": [
      "train error = 0.00%\n",
      "test error = 2.08%\n"
     ]
    }
   ],
   "source": [
    "# nb_epochs = 150, mini_batch = 100, lr = 1e-3\n",
    "lr = 1e-3\n",
    "train_model_sgd(model, train_input, train_target, nb_epochs = nb_epochs, mini_batch_size = mini_batch, lr = lr)\n",
    "print_errors(mini_batch)"
   ]
  },
  {
   "cell_type": "code",
   "execution_count": 10,
   "metadata": {
    "colab": {
     "autoexec": {
      "startup": false,
      "wait_interval": 0
     },
     "base_uri": "https://localhost:8080/",
     "height": 52
    },
    "colab_type": "code",
    "executionInfo": {
     "elapsed": 131375,
     "status": "ok",
     "timestamp": 1526939472701,
     "user": {
      "displayName": "Milica Novakovic",
      "photoUrl": "//lh6.googleusercontent.com/-PdM9ODluhz0/AAAAAAAAAAI/AAAAAAAAABc/XV0m45-1Nmw/s50-c-k-no/photo.jpg",
      "userId": "110546638424582068159"
     },
     "user_tz": -120
    },
    "id": "Qgt3NNI7gCX7",
    "outputId": "25a88dab-9a29-4889-8775-1ecc8a10b860"
   },
   "outputs": [
    {
     "name": "stdout",
     "output_type": "stream",
     "text": [
      "train error = 0.00%\n",
      "test error = 2.08%\n"
     ]
    }
   ],
   "source": [
    "# nb_epochs = 150, mini_batch = 100, lr = 1e-6\n",
    "lr = 1e-6\n",
    "train_model_sgd(model, train_input, train_target, nb_epochs = nb_epochs, mini_batch_size = mini_batch, lr = lr)\n",
    "print_errors(mini_batch)"
   ]
  },
  {
   "cell_type": "code",
   "execution_count": 11,
   "metadata": {
    "colab": {
     "autoexec": {
      "startup": false,
      "wait_interval": 0
     },
     "base_uri": "https://localhost:8080/",
     "height": 52
    },
    "colab_type": "code",
    "executionInfo": {
     "elapsed": 131359,
     "status": "ok",
     "timestamp": 1526940930130,
     "user": {
      "displayName": "Milica Novakovic",
      "photoUrl": "//lh6.googleusercontent.com/-PdM9ODluhz0/AAAAAAAAAAI/AAAAAAAAABc/XV0m45-1Nmw/s50-c-k-no/photo.jpg",
      "userId": "110546638424582068159"
     },
     "user_tz": -120
    },
    "id": "9xGaXadJw1qP",
    "outputId": "e0022437-84f5-4b61-e3b6-cc3d879e2172"
   },
   "outputs": [
    {
     "name": "stdout",
     "output_type": "stream",
     "text": [
      "train error = 35.22%\n",
      "test error = 36.86%\n"
     ]
    }
   ],
   "source": [
    "# nb_epochs = 150, mini_batch = 100, lr = 1\n",
    "lr = 1\n",
    "train_model_sgd(model, train_input, train_target, nb_epochs = nb_epochs, mini_batch_size = mini_batch, lr = lr)\n",
    "print_errors(mini_batch)"
   ]
  },
  {
   "cell_type": "code",
   "execution_count": 12,
   "metadata": {
    "colab": {
     "autoexec": {
      "startup": false,
      "wait_interval": 0
     },
     "base_uri": "https://localhost:8080/",
     "height": 52
    },
    "colab_type": "code",
    "executionInfo": {
     "elapsed": 131536,
     "status": "ok",
     "timestamp": 1526941137572,
     "user": {
      "displayName": "Milica Novakovic",
      "photoUrl": "//lh6.googleusercontent.com/-PdM9ODluhz0/AAAAAAAAAAI/AAAAAAAAABc/XV0m45-1Nmw/s50-c-k-no/photo.jpg",
      "userId": "110546638424582068159"
     },
     "user_tz": -120
    },
    "id": "oN61EvyPw47Q",
    "outputId": "05a2d101-e8e8-4c4e-9090-7ad989aeaea8"
   },
   "outputs": [
    {
     "name": "stdout",
     "output_type": "stream",
     "text": [
      "train error = 32.70%\n",
      "test error = 35.00%\n"
     ]
    }
   ],
   "source": [
    "# nb_epochs = 150, mini_batch = 100, lr = 0.5\n",
    "lr = 0.5\n",
    "train_model_sgd(model, train_input, train_target, nb_epochs = nb_epochs, mini_batch_size = mini_batch, lr = lr)\n",
    "print_errors(mini_batch)"
   ]
  },
  {
   "cell_type": "code",
   "execution_count": null,
   "metadata": {
    "colab": {
     "autoexec": {
      "startup": false,
      "wait_interval": 0
     }
    },
    "colab_type": "code",
    "id": "yTvDV0BqxriD"
   },
   "outputs": [],
   "source": []
  },
  {
   "cell_type": "code",
   "execution_count": null,
   "metadata": {},
   "outputs": [],
   "source": []
  }
 ],
 "metadata": {
  "accelerator": "GPU",
  "colab": {
   "default_view": {},
   "name": "OptiML_MNIST.ipynb",
   "provenance": [],
   "version": "0.3.2",
   "views": {}
  },
  "kernelspec": {
   "display_name": "Python 3",
   "language": "python",
   "name": "python3"
  },
  "language_info": {
   "codemirror_mode": {
    "name": "ipython",
    "version": 3
   },
   "file_extension": ".py",
   "mimetype": "text/x-python",
   "name": "python",
   "nbconvert_exporter": "python",
   "pygments_lexer": "ipython3",
   "version": "3.6.5"
  }
 },
 "nbformat": 4,
 "nbformat_minor": 1
}
