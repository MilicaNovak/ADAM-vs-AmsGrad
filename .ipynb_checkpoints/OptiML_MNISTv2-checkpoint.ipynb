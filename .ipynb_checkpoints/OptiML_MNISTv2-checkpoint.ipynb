{
 "cells": [
  {
   "cell_type": "markdown",
   "metadata": {
    "colab_type": "text",
    "id": "nb49jUQXHpzg"
   },
   "source": [
    "### First cell can be skipped if you are not working with: https://colab.research.google.com/"
   ]
  },
  {
   "cell_type": "code",
   "execution_count": 1,
   "metadata": {
    "colab": {
     "autoexec": {
      "startup": false,
      "wait_interval": 0
     },
     "base_uri": "https://localhost:8080/",
     "height": 195
    },
    "colab_type": "code",
    "executionInfo": {
     "elapsed": 4757,
     "status": "ok",
     "timestamp": 1526998879690,
     "user": {
      "displayName": "Milica Novakovic",
      "photoUrl": "//lh6.googleusercontent.com/-PdM9ODluhz0/AAAAAAAAAAI/AAAAAAAAABc/XV0m45-1Nmw/s50-c-k-no/photo.jpg",
      "userId": "110546638424582068159"
     },
     "user_tz": -120
    },
    "id": "StSLCGlXG2vw",
    "outputId": "279026a3-e4ac-4fab-d0eb-5cc0c086345d"
   },
   "outputs": [
    {
     "name": "stdout",
     "output_type": "stream",
     "text": [
      "Requirement already satisfied: torch==0.3.1 from http://download.pytorch.org/whl/cu90/torch-0.3.1-cp36-cp36m-linux_x86_64.whl in /usr/local/lib/python3.6/dist-packages (0.3.1)\r\n",
      "Requirement already satisfied: numpy in /usr/local/lib/python3.6/dist-packages (from torch==0.3.1) (1.14.3)\r\n",
      "Requirement already satisfied: pyyaml in /usr/local/lib/python3.6/dist-packages (from torch==0.3.1) (3.12)\n",
      "Requirement already satisfied: torchvision in /usr/local/lib/python3.6/dist-packages (0.2.1)\n",
      "Requirement already satisfied: torch in /usr/local/lib/python3.6/dist-packages (from torchvision) (0.3.1)\n",
      "Requirement already satisfied: pillow>=4.1.1 in /usr/local/lib/python3.6/dist-packages (from torchvision) (5.1.0)\n",
      "Requirement already satisfied: numpy in /usr/local/lib/python3.6/dist-packages (from torchvision) (1.14.3)\n",
      "Requirement already satisfied: six in /usr/local/lib/python3.6/dist-packages (from torchvision) (1.11.0)\n",
      "Requirement already satisfied: pyyaml in /usr/local/lib/python3.6/dist-packages (from torch->torchvision) (3.12)\n"
     ]
    }
   ],
   "source": [
    "!pip3 install http://download.pytorch.org/whl/cu90/torch-0.3.1-cp36-cp36m-linux_x86_64.whl \n",
    "!pip3 install torchvision"
   ]
  },
  {
   "cell_type": "code",
   "execution_count": 1,
   "metadata": {
    "colab": {
     "autoexec": {
      "startup": false,
      "wait_interval": 0
     }
    },
    "colab_type": "code",
    "id": "KPWyJyGAHNCI"
   },
   "outputs": [],
   "source": [
    "import torch\n",
    "import math\n",
    "import os\n",
    "\n",
    "from torch import optim\n",
    "from torch import Tensor\n",
    "from torch.autograd import Variable\n",
    "from torch import nn\n",
    "from torchvision import datasets\n",
    "import torchvision.transforms as transforms\n",
    "import seaborn as sns\n",
    "from sklearn.model_selection import KFold\n",
    "from torch.utils.data.sampler import SubsetRandomSampler"
   ]
  },
  {
   "cell_type": "code",
   "execution_count": 2,
   "metadata": {
    "colab": {
     "autoexec": {
      "startup": false,
      "wait_interval": 0
     }
    },
    "colab_type": "code",
    "id": "J8L8debuHPOC"
   },
   "outputs": [],
   "source": [
    "def create_mnist_model():\n",
    "  return nn.Sequential(\n",
    "      nn.Linear(784, 100),\n",
    "      nn.ReLU(),\n",
    "      nn.Linear(100, 10)\n",
    "  )\n",
    "\n",
    "def train_model_sgd(model, train_input, train_target, nb_epochs = 150, mini_batch_size = 100, lr = 1e-1):\n",
    "  criterion = nn.CrossEntropyLoss()\n",
    "  optimizer = optim.SGD(model.parameters(), lr)\n",
    "\n",
    "  for e in range(0, nb_epochs):\n",
    "      for b in range(0, train_input.size(0), mini_batch_size):\n",
    "          output = model(train_input.narrow(0, b, mini_batch_size))\n",
    "          loss = criterion(output, train_target.narrow(0, b, mini_batch_size))\n",
    "          model.zero_grad()\n",
    "          loss.backward()\n",
    "          optimizer.step()\n",
    "\n",
    "def train_model_adam(model, train_input, train_target, nb_epochs = 150, mini_batch_size = 100, lr = 1e-3, beta1 = 0.9, beta2 = 0.999):\n",
    "  criterion = nn.CrossEntropyLoss()\n",
    "  optimizer = optim.Adam(model.parameters(), lr, betas = (beta1,beta2))\n",
    "\n",
    "  for e in range(0, nb_epochs):\n",
    "      for b in range(0, train_input.size(0), mini_batch_size):\n",
    "          output = model(train_input.narrow(0, b, mini_batch_size))\n",
    "          loss = criterion(output, train_target.narrow(0, b, mini_batch_size))\n",
    "          model.zero_grad()\n",
    "          loss.backward()\n",
    "          optimizer.step()\n",
    "\n",
    "def train_model_amsgrad(model, train_input, train_target, nb_epochs = 150, mini_batch_size = 100, lr = 1e-3, beta1 = 0.9, beta2 = 0.999):\n",
    "  criterion = nn.CrossEntropyLoss()\n",
    "  optimizer = optim.Adam(model.parameters(), lr, betas = (beta1,beta2), amsgrad = True)\n",
    "\n",
    "  for e in range(0, nb_epochs):\n",
    "      for b in range(0, train_input.size(0), mini_batch_size):\n",
    "          output = model(train_input.narrow(0, b, mini_batch_size))\n",
    "          loss = criterion(output, train_target.narrow(0, b, mini_batch_size))\n",
    "          model.zero_grad()\n",
    "          loss.backward()\n",
    "          optimizer.step()\n",
    "          \n",
    "def compute_prc_errors(model, data_input, data_target, mini_batch_size = 100, test_prc = False):\n",
    "  nb_data_errors = 0\n",
    "  \n",
    "  for b in range(0, data_input.size(0), mini_batch_size):\n",
    "      output = model(data_input.narrow(0, b, mini_batch_size))\n",
    "      _, predicted_classes = torch.max(output.data, 1)\n",
    "      for k in range(0, mini_batch_size):\n",
    "          if data_target.data[b + k] != predicted_classes[k]:\n",
    "              nb_data_errors = nb_data_errors + 1\n",
    "              \n",
    "  # compute error rate for train/test set depending on flag test_prc\n",
    "  if (test_prc):\n",
    "    percentage = nb_data_errors/test_input.size(0) * 100\n",
    "  else:\n",
    "    percentage = nb_data_errors/train_input.size(0) * 100\n",
    "  return percentage\n",
    "\n",
    "def print_errors(mini_batch_size = 100):\n",
    "  train_percent = compute_prc_errors(model, train_input, train_target,  mini_batch_size, test_prc = False)\n",
    "  print('train error = {:0.2f}%'.format(train_percent))\n",
    "  test_percent = compute_prc_errors(model, test_input, test_target, mini_batch_size, test_prc = True)\n",
    "  print('test error = {:0.2f}%'.format(test_percent))"
   ]
  },
  {
   "cell_type": "code",
   "execution_count": 4,
   "metadata": {
    "colab": {
     "autoexec": {
      "startup": false,
      "wait_interval": 0
     }
    },
    "colab_type": "code",
    "id": "L5g642XXVn_1"
   },
   "outputs": [],
   "source": [
    "def get_dataset():\n",
    "  \n",
    "  root = './data'\n",
    "  if not os.path.exists(root):\n",
    "    os.mkdir(root)\n",
    "\n",
    "  mnist_train_set = datasets.MNIST(root = root, train = True, download = True)\n",
    "  mnist_test_set = datasets.MNIST(root = root, train = False, download = True)\n",
    "  return mnist_train_set, mnist_test_set\n"
   ]
  },
  {
   "cell_type": "code",
   "execution_count": 5,
   "metadata": {
    "colab": {
     "autoexec": {
      "startup": false,
      "wait_interval": 0
     }
    },
    "colab_type": "code",
    "id": "zL4E-clQn9UF"
   },
   "outputs": [],
   "source": [
    "def get_data():\n",
    "  \n",
    "  root = './data'\n",
    "  if not os.path.exists(root):\n",
    "    os.mkdir(root)\n",
    "\n",
    "  #trans = transforms.Compose([transforms.ToTensor(), transforms.Normalize((0.5,), (1.0,))])\n",
    "  mnist_train_set = datasets.MNIST(root = root, train = True, download = True) #, transform = trans\n",
    "  mnist_test_set = datasets.MNIST(root = root, train = False, download = True) # , transform = trans\n",
    "\n",
    "  train_input = mnist_train_set.train_data.view(mnist_train_set.train_data.size(0),-1).float()\n",
    "  train_target = mnist_train_set.train_labels\n",
    "  test_input = mnist_test_set.test_data.view(mnist_test_set.test_data.size(0),-1).float()\n",
    "  test_target = mnist_test_set.test_labels\n",
    "  \n",
    "  return train_input, train_target, test_input, test_target"
   ]
  },
  {
   "cell_type": "markdown",
   "metadata": {
    "colab_type": "text",
    "id": "bPMCm1BSfeOa"
   },
   "source": [
    "Load the train and test data for MNIST dataset, normalize"
   ]
  },
  {
   "cell_type": "code",
   "execution_count": 6,
   "metadata": {
    "colab": {
     "autoexec": {
      "startup": false,
      "wait_interval": 0
     }
    },
    "colab_type": "code",
    "id": "JwTLc_4_faq_"
   },
   "outputs": [],
   "source": [
    "train_input, train_target, test_input, test_target = get_data()\n",
    "# normalize the data\n",
    "mean, std = train_input.mean(), train_input.std()\n",
    "train_input.sub_(mean).div_(std)\n",
    "test_input.sub_(mean).div_(std)\n",
    "\n",
    "# converting Tensors into Variables before using themin model\n",
    "train_input = Variable(train_input)\n",
    "train_target = Variable(train_target)\n",
    "test_input = Variable(test_input)\n",
    "test_target = Variable(test_target)"
   ]
  },
  {
   "cell_type": "code",
   "execution_count": 20,
   "metadata": {},
   "outputs": [],
   "source": [
    "kf = KFold(n_splits = 5, shuffle=True)"
   ]
  },
  {
   "cell_type": "code",
   "execution_count": 21,
   "metadata": {},
   "outputs": [
    {
     "data": {
      "text/plain": [
       "KFold(n_splits=5, random_state=None, shuffle=True)"
      ]
     },
     "execution_count": 21,
     "metadata": {},
     "output_type": "execute_result"
    }
   ],
   "source": [
    "from sklearn.model_selection import KFold\n",
    "from torch.utils.data.sampler import SubsetRandomSampler"
   ]
  },
  {
   "cell_type": "code",
   "execution_count": 22,
   "metadata": {
    "colab": {
     "autoexec": {
      "startup": false,
      "wait_interval": 0
     }
    },
    "colab_type": "code",
    "id": "0FsXcz8NtYZy"
   },
   "outputs": [],
   "source": [
    "def train_model_kfold_sgd(model, train_dataset, kfold=5, shuffle=True, nb_epochs = 150, mini_batch_size = 100, lr = 1e-1):\n",
    "    \n",
    "    #Defining Criterion\n",
    "    criterion = nn.CrossEntropyLoss()\n",
    "    \n",
    "    if torch.cuda.is_available():\n",
    "     #   train_dataset = train_dataset.cuda()\n",
    "        criterion = nn.CrossEntropyLoss().cuda()\n",
    "        \n",
    "    #Defining optimizer\n",
    "    optimizer = optim.SGD(model.parameters(), lr)\n",
    "    #optimizer = torch.optim.Adam(model.parameters(), lr=lr, betas=(beta1, beta2))\n",
    "    \n",
    "    kf = KFold(n_splits = kfold, shuffle=shuffle)\n",
    "\n",
    "    # Define vectors to store results for each fold\n",
    "    train_loss_fold = []\n",
    "    val_loss_fold = []\n",
    "    train_acc_fold = []\n",
    "    val_acc_fold = []\n",
    "\n",
    "    for train_index, val_index in kf.split(train_dataset.train_data):  \n",
    "        \n",
    "        train_sampler = SubsetRandomSampler(train_index)\n",
    "        val_sampler = SubsetRandomSampler(val_index)\n",
    "\n",
    "        train_loader = torch.utils.data.DataLoader(train_dataset, sampler=train_sampler, drop_last=False)\n",
    "        #batch_size=mini_batch_size,\n",
    "        val_loader = torch.utils.data.DataLoader(train_dataset, sampler=val_sampler, drop_last=False)\n",
    "\n",
    "        #Defining model\n",
    "        model = create_mnist_model()\n",
    "        if torch.cuda.is_available():\n",
    "            model = model.cuda()\n",
    "        #train_dataset.input, val_dataset.input = train_input.cuda(), train_target.cuda(),test_input.cuda(), test_target.cuda()\n",
    "\n",
    "        # Store loss and accuracy for each epoch\n",
    "        train_e_loss = []\n",
    "        val_e_loss = []\n",
    "        train_e_acc = []\n",
    "        val_e_acc = []\n",
    "\n",
    "        for epoch in range(0, nb_epochs):\n",
    "            # for each epoch calculate train loss, accuracy\n",
    "            train_loss, train_acc = train_model(train_loader, model, criterion, optimizer)\n",
    "\n",
    "            # Store them in list to be able to plot\n",
    "            train_e_loss.append(train_loss)\n",
    "            train_e_acc.append(train_acc)\n",
    "\n",
    "            # Evaluate validation loss and accuracy\n",
    "            val_loss, val_acc = validate_model(val_loader, model, criterion)\n",
    "\n",
    "            # Store them in the list to be able to plot\n",
    "            val_e_loss.append(val_loss)\n",
    "            val_e_acc.append(val_acc)\n",
    "\n",
    "    # for k-fold sets, store loss and accuracy through epochs \n",
    "    train_loss_kfold.append(train_e_loss)\n",
    "    val_loss_kfold.append(val_e_loss)\n",
    "    train_acc_kfold.append(train_e_acc)\n",
    "    val_acc_kfold.append(val_e_acc)\n",
    "\n",
    "    return train_loss_kfold, val_loss_kfold, train_acc_kfold, val_acc_kfold\n",
    "\n",
    "def train_model(train_loader, model, criterion, optimizer):\n",
    "    # Set model for training\n",
    "    model.train()\n",
    "    \n",
    "    # Initialize counters to 0\n",
    "    nb_correct = 0\n",
    "    nb_elem = 0\n",
    "    loss_epoch = 0\n",
    "    \n",
    "    # Iterate over batches\n",
    "    for i, (train_data, train_labels) in enumerate(train_loader):\n",
    "        # Create Variable\n",
    "        inputs = Variable(train_data)\n",
    "        targets = Variable(train_labels)\n",
    "        if torch.cuda.is_available():\n",
    "            inputs = inputs.cuda()\n",
    "            targets = targets.cuda()\n",
    "\n",
    "        # Clear gradients\n",
    "        model.zero_grad()\n",
    "\n",
    "        # Forward pass\n",
    "        outputs = model(inputs)\n",
    "\n",
    "        # Predicted labels (the one with highest probability)\n",
    "        pred_label = outputs.data.max(1)[1]\n",
    "\n",
    "         # Compute and store the loss\n",
    "        loss = criterion(outputs, targets)\n",
    "        loss_epoch += loss.data[0]\n",
    "        \n",
    "        # Update nb. correct and nb of elem\n",
    "        nb_correct += (pred_label == targets.data).sum()\n",
    "        nb_elem += len(pred_label)\n",
    "\n",
    "        # Backward pass\n",
    "        loss.backward()\n",
    "        optimizer.step()\n",
    "    \n",
    "    loss_epoch /=nb_elem\n",
    "    acc_epoch = nb_correct/nb_elem\n",
    "    return loss_epoch, acc_epoch\n",
    "\n",
    "\n",
    "def validate_model(val_loader, model, criterion):\n",
    "    # Switch to evaluate mode\n",
    "    model.eval()\n",
    "\n",
    "    # Initialize counters\n",
    "    nb_correct = 0\n",
    "    nb_elem = 0\n",
    "    val_loss = 0\n",
    "    \n",
    "    # Iterate over batches\n",
    "    for i, (val_data, val_labels) in enumerate(val_loader):\n",
    "        # Create Variable\n",
    "        inputs = Variable(val_data)\n",
    "        targets = Variable(val_labels)\n",
    "        if torch.cuda.is_available():\n",
    "          inputs = inputs.cuda()\n",
    "          targets = targets.cuda()\n",
    "        \n",
    "        # Obtain predictions\n",
    "        outputs = model(inputs)\n",
    "        \n",
    "        # Predicted label (highest probability)\n",
    "        pred_label = scores.data.max(1)[1]\n",
    "\n",
    "        # Loss\n",
    "        loss = criterion(scores, targets)\n",
    "        loss_epoch += loss.data[0]\n",
    "\n",
    "        # Update nb. correct and nb. total\n",
    "        nb_correct += (pred_label == targets.data).sum()\n",
    "        nb_elem += len(pred_label)\n",
    "        \n",
    "    loss_epoch/=nb_elem\n",
    "    acc_epoch = nb_correct/nb_elem\n",
    "    return test_loss, acc_epoch"
   ]
  },
  {
   "cell_type": "markdown",
   "metadata": {
    "colab_type": "text",
    "id": "A6OqwjikGkbs"
   },
   "source": [
    "Function for plotting"
   ]
  },
  {
   "cell_type": "code",
   "execution_count": 8,
   "metadata": {
    "colab": {
     "autoexec": {
      "startup": false,
      "wait_interval": 0
     }
    },
    "colab_type": "code",
    "id": "UVwguvRBGjbG"
   },
   "outputs": [],
   "source": [
    "import seaborn as sns\n",
    "def plot_acc_loss(tr_loss, te_loss, tr_acc, te_acc, title=\"MNIST\"):   \n",
    "    plt.figure()\n",
    "    title=\"MNIST loss\"\n",
    "    sns.tsplot(np.array(tr_loss)).set_title(title)\n",
    "    sns.tsplot(np.array(te_loss), color = 'r')\n",
    "    plt.legend(['Train', 'Validation'])\n",
    "    plt.xlabel('Epoch')\n",
    "    plt.ylabel('Loss')\n",
    "\n",
    "    plt.figure()\n",
    "    title=\"MNIST accuracy\"\n",
    "    sns.tsplot(np.array(tr_acc)).set_title(title)\n",
    "    sns.tsplot(np.array(te_acc), color = 'r')\n",
    "    plt.legend(['Train', 'Validation'])\n",
    "    plt.xlabel('Epoch')\n",
    "    plt.ylabel('Accuracy')"
   ]
  },
  {
   "cell_type": "markdown",
   "metadata": {
    "colab_type": "text",
    "id": "PeydXXFOijmG"
   },
   "source": [
    "Train the model with specific set of parameters, i.e lr=0.1, , it takes so much time, like 2 min GPU ![alt text](https://)"
   ]
  },
  {
   "cell_type": "code",
   "execution_count": 9,
   "metadata": {
    "colab": {
     "autoexec": {
      "startup": false,
      "wait_interval": 0
     }
    },
    "colab_type": "code",
    "id": "Z4Ul4svnH8Qo"
   },
   "outputs": [],
   "source": [
    "model = create_mnist_model()\n",
    "if torch.cuda.is_available():\n",
    "  model = model.cuda()\n",
    "  train_input, train_target,test_input, test_target= train_input.cuda(), train_target.cuda(),test_input.cuda(), test_target.cuda()\n",
    "nb_epochs = 150\n",
    "mini_batch = 100\n",
    "lr = 1e-1\n",
    "\n",
    "train_model_sgd(model, train_input, train_target, nb_epochs = nb_epochs, mini_batch_size = mini_batch, lr = lr)"
   ]
  },
  {
   "cell_type": "markdown",
   "metadata": {
    "colab_type": "text",
    "id": "M2WuHVFXisZF"
   },
   "source": [
    "Print error rate on train and test set"
   ]
  },
  {
   "cell_type": "code",
   "execution_count": 10,
   "metadata": {
    "colab": {
     "autoexec": {
      "startup": false,
      "wait_interval": 0
     },
     "base_uri": "https://localhost:8080/",
     "height": 52
    },
    "colab_type": "code",
    "executionInfo": {
     "elapsed": 6233,
     "status": "ok",
     "timestamp": 1526938968142,
     "user": {
      "displayName": "Milica Novakovic",
      "photoUrl": "//lh6.googleusercontent.com/-PdM9ODluhz0/AAAAAAAAAAI/AAAAAAAAABc/XV0m45-1Nmw/s50-c-k-no/photo.jpg",
      "userId": "110546638424582068159"
     },
     "user_tz": -120
    },
    "id": "JPXW_F54hW53",
    "outputId": "1a5cec75-d2d2-40a9-f42f-959211ef6e99"
   },
   "outputs": [
    {
     "name": "stdout",
     "output_type": "stream",
     "text": [
      "train error = 0.00%\n",
      "test error = 1.90%\n"
     ]
    }
   ],
   "source": [
    "# nb_epochs = 150, mini_batch = 100, lr = 1e-1\n",
    "print_errors(mini_batch)"
   ]
  },
  {
   "cell_type": "markdown",
   "metadata": {
    "colab_type": "text",
    "id": "WFGCv7jri9v0"
   },
   "source": [
    "Train with new learning rates"
   ]
  },
  {
   "cell_type": "code",
   "execution_count": 11,
   "metadata": {
    "colab": {
     "autoexec": {
      "startup": false,
      "wait_interval": 0
     },
     "base_uri": "https://localhost:8080/",
     "height": 52
    },
    "colab_type": "code",
    "executionInfo": {
     "elapsed": 129321,
     "status": "ok",
     "timestamp": 1526939102056,
     "user": {
      "displayName": "Milica Novakovic",
      "photoUrl": "//lh6.googleusercontent.com/-PdM9ODluhz0/AAAAAAAAAAI/AAAAAAAAABc/XV0m45-1Nmw/s50-c-k-no/photo.jpg",
      "userId": "110546638424582068159"
     },
     "user_tz": -120
    },
    "id": "AVCNbO0FVfd9",
    "outputId": "cb1c552d-69b0-4c9e-d603-7a48b1104210"
   },
   "outputs": [
    {
     "name": "stdout",
     "output_type": "stream",
     "text": [
      "train error = 0.00%\n",
      "test error = 1.88%\n"
     ]
    }
   ],
   "source": [
    "# nb_epochs = 150, mini_batch = 100, lr = 1e-2\n",
    "lr = 1e-2\n",
    "train_model_sgd(model, train_input, train_target, nb_epochs = nb_epochs, mini_batch_size = mini_batch, lr = lr)\n",
    "print_errors(mini_batch)"
   ]
  },
  {
   "cell_type": "code",
   "execution_count": 12,
   "metadata": {
    "colab": {
     "autoexec": {
      "startup": false,
      "wait_interval": 0
     },
     "base_uri": "https://localhost:8080/",
     "height": 52
    },
    "colab_type": "code",
    "executionInfo": {
     "elapsed": 131282,
     "status": "ok",
     "timestamp": 1526939282742,
     "user": {
      "displayName": "Milica Novakovic",
      "photoUrl": "//lh6.googleusercontent.com/-PdM9ODluhz0/AAAAAAAAAAI/AAAAAAAAABc/XV0m45-1Nmw/s50-c-k-no/photo.jpg",
      "userId": "110546638424582068159"
     },
     "user_tz": -120
    },
    "id": "7qaVzYnDe5eW",
    "outputId": "dc6fe1cb-ff27-454a-a9ea-331c90267645"
   },
   "outputs": [
    {
     "name": "stdout",
     "output_type": "stream",
     "text": [
      "train error = 0.00%\n",
      "test error = 1.88%\n"
     ]
    }
   ],
   "source": [
    "# nb_epochs = 150, mini_batch = 100, lr = 0.5\n",
    "lr = 1e-3\n",
    "train_model_sgd(model, train_input, train_target, nb_epochs = nb_epochs, mini_batch_size = mini_batch, lr = lr)\n",
    "print_errors(mini_batch)"
   ]
  },
  {
   "cell_type": "code",
   "execution_count": 13,
   "metadata": {
    "colab": {
     "autoexec": {
      "startup": false,
      "wait_interval": 0
     },
     "base_uri": "https://localhost:8080/",
     "height": 52
    },
    "colab_type": "code",
    "executionInfo": {
     "elapsed": 131375,
     "status": "ok",
     "timestamp": 1526939472701,
     "user": {
      "displayName": "Milica Novakovic",
      "photoUrl": "//lh6.googleusercontent.com/-PdM9ODluhz0/AAAAAAAAAAI/AAAAAAAAABc/XV0m45-1Nmw/s50-c-k-no/photo.jpg",
      "userId": "110546638424582068159"
     },
     "user_tz": -120
    },
    "id": "Qgt3NNI7gCX7",
    "outputId": "25a88dab-9a29-4889-8775-1ecc8a10b860"
   },
   "outputs": [
    {
     "name": "stdout",
     "output_type": "stream",
     "text": [
      "train error = 0.00%\n",
      "test error = 1.88%\n"
     ]
    }
   ],
   "source": [
    "# nb_epochs = 150, mini_batch = 100, lr = 0.5\n",
    "lr = 1e-6\n",
    "train_model_sgd(model, train_input, train_target, nb_epochs = nb_epochs, mini_batch_size = mini_batch, lr = lr)\n",
    "print_errors(mini_batch)"
   ]
  },
  {
   "cell_type": "code",
   "execution_count": 14,
   "metadata": {
    "colab": {
     "autoexec": {
      "startup": false,
      "wait_interval": 0
     },
     "base_uri": "https://localhost:8080/",
     "height": 52
    },
    "colab_type": "code",
    "executionInfo": {
     "elapsed": 131359,
     "status": "ok",
     "timestamp": 1526940930130,
     "user": {
      "displayName": "Milica Novakovic",
      "photoUrl": "//lh6.googleusercontent.com/-PdM9ODluhz0/AAAAAAAAAAI/AAAAAAAAABc/XV0m45-1Nmw/s50-c-k-no/photo.jpg",
      "userId": "110546638424582068159"
     },
     "user_tz": -120
    },
    "id": "9xGaXadJw1qP",
    "outputId": "e0022437-84f5-4b61-e3b6-cc3d879e2172"
   },
   "outputs": [
    {
     "name": "stdout",
     "output_type": "stream",
     "text": [
      "train error = 22.49%\n",
      "test error = 23.18%\n"
     ]
    }
   ],
   "source": [
    "# nb_epochs = 150, mini_batch = 100, lr = 0.5\n",
    "lr = 1\n",
    "train_model_sgd(model, train_input, train_target, nb_epochs = nb_epochs, mini_batch_size = mini_batch, lr = lr)\n",
    "print_errors(mini_batch)"
   ]
  },
  {
   "cell_type": "code",
   "execution_count": 15,
   "metadata": {
    "colab": {
     "autoexec": {
      "startup": false,
      "wait_interval": 0
     },
     "base_uri": "https://localhost:8080/",
     "height": 52
    },
    "colab_type": "code",
    "executionInfo": {
     "elapsed": 131536,
     "status": "ok",
     "timestamp": 1526941137572,
     "user": {
      "displayName": "Milica Novakovic",
      "photoUrl": "//lh6.googleusercontent.com/-PdM9ODluhz0/AAAAAAAAAAI/AAAAAAAAABc/XV0m45-1Nmw/s50-c-k-no/photo.jpg",
      "userId": "110546638424582068159"
     },
     "user_tz": -120
    },
    "id": "oN61EvyPw47Q",
    "outputId": "05a2d101-e8e8-4c4e-9090-7ad989aeaea8"
   },
   "outputs": [
    {
     "name": "stdout",
     "output_type": "stream",
     "text": [
      "train error = 9.62%\n",
      "test error = 11.31%\n"
     ]
    }
   ],
   "source": [
    "# nb_epochs = 150, mini_batch = 100, lr = 0.5\n",
    "lr = 0.5\n",
    "train_model_sgd(model, train_input, train_target, nb_epochs = nb_epochs, mini_batch_size = mini_batch, lr = lr)\n",
    "print_errors(mini_batch)"
   ]
  },
  {
   "cell_type": "code",
   "execution_count": 16,
   "metadata": {
    "colab": {
     "autoexec": {
      "startup": false,
      "wait_interval": 0
     },
     "base_uri": "https://localhost:8080/",
     "height": 210
    },
    "colab_type": "code",
    "executionInfo": {
     "elapsed": 703,
     "status": "ok",
     "timestamp": 1526998216350,
     "user": {
      "displayName": "Milica Novakovic",
      "photoUrl": "//lh6.googleusercontent.com/-PdM9ODluhz0/AAAAAAAAAAI/AAAAAAAAABc/XV0m45-1Nmw/s50-c-k-no/photo.jpg",
      "userId": "110546638424582068159"
     },
     "user_tz": -120
    },
    "id": "R9fHtY6IH4HT",
    "outputId": "c4f02d63-41d1-46f5-926c-c33f52762ac2"
   },
   "outputs": [
    {
     "name": "stdout",
     "output_type": "stream",
     "text": [
      "tensor([ 5,  0,  4,  ...,  5,  6,  8])\n"
     ]
    }
   ],
   "source": [
    "train_dataset, test_dataset = get_dataset()\n",
    "#print(train_dataset.train_data)\n",
    "print(train_dataset.train_labels)"
   ]
  },
  {
   "cell_type": "code",
   "execution_count": 17,
   "metadata": {
    "colab": {
     "autoexec": {
      "startup": false,
      "wait_interval": 0
     },
     "base_uri": "https://localhost:8080/",
     "height": 193
    },
    "colab_type": "code",
    "executionInfo": {
     "elapsed": 725,
     "status": "ok",
     "timestamp": 1526998715345,
     "user": {
      "displayName": "Milica Novakovic",
      "photoUrl": "//lh6.googleusercontent.com/-PdM9ODluhz0/AAAAAAAAAAI/AAAAAAAAABc/XV0m45-1Nmw/s50-c-k-no/photo.jpg",
      "userId": "110546638424582068159"
     },
     "user_tz": -120
    },
    "id": "93vdDXIRNxsQ",
    "outputId": "3199fe0b-2516-4fb9-9ac0-1df382eb7eb7"
   },
   "outputs": [
    {
     "name": "stdout",
     "output_type": "stream",
     "text": [
      "tensor([ 7,  2,  1,  ...,  4,  5,  6])\n"
     ]
    }
   ],
   "source": [
    "print(test_dataset.test_labels)"
   ]
  },
  {
   "cell_type": "markdown",
   "metadata": {
    "colab_type": "text",
    "id": "l5jUbt8RN3u2"
   },
   "source": [
    "Normalizing data"
   ]
  },
  {
   "cell_type": "code",
   "execution_count": 18,
   "metadata": {
    "colab": {
     "autoexec": {
      "startup": false,
      "wait_interval": 0
     },
     "base_uri": "https://localhost:8080/",
     "height": 175
    },
    "colab_type": "code",
    "executionInfo": {
     "elapsed": 1453,
     "status": "ok",
     "timestamp": 1526998980301,
     "user": {
      "displayName": "Milica Novakovic",
      "photoUrl": "//lh6.googleusercontent.com/-PdM9ODluhz0/AAAAAAAAAAI/AAAAAAAAABc/XV0m45-1Nmw/s50-c-k-no/photo.jpg",
      "userId": "110546638424582068159"
     },
     "user_tz": -120
    },
    "id": "ibH5hE-bM3zs",
    "outputId": "2137049c-fd84-4a86-cf86-9341138d12f9"
   },
   "outputs": [
    {
     "data": {
      "text/plain": [
       "tensor([[-0.4241, -0.4241, -0.4241,  ..., -0.4241, -0.4241, -0.4241],\n",
       "        [-0.4241, -0.4241, -0.4241,  ..., -0.4241, -0.4241, -0.4241],\n",
       "        [-0.4241, -0.4241, -0.4241,  ..., -0.4241, -0.4241, -0.4241],\n",
       "        ...,\n",
       "        [-0.4241, -0.4241, -0.4241,  ..., -0.4241, -0.4241, -0.4241],\n",
       "        [-0.4241, -0.4241, -0.4241,  ..., -0.4241, -0.4241, -0.4241],\n",
       "        [-0.4241, -0.4241, -0.4241,  ..., -0.4241, -0.4241, -0.4241]])"
      ]
     },
     "execution_count": 18,
     "metadata": {},
     "output_type": "execute_result"
    }
   ],
   "source": [
    "train_dataset, test_dataset = get_dataset()\n",
    "train_dataset.train_data = train_dataset.train_data.view(train_dataset.train_data.size(0),-1).float()\n",
    "test_dataset.test_data = test_dataset.test_data.view(test_dataset.test_data.size(0),-1).float()\n",
    "\n",
    "mean, std = train_dataset.train_data.mean(), train_dataset.train_data.std()\n",
    "train_dataset.train_data.sub_(mean).div_(std)\n",
    "test_dataset.test_data.sub_(mean).div_(std)"
   ]
  },
  {
   "cell_type": "code",
   "execution_count": 29,
   "metadata": {},
   "outputs": [
    {
     "ename": "AttributeError",
     "evalue": "'MNIST' object has no attribute 'train_label'",
     "output_type": "error",
     "traceback": [
      "\u001b[1;31m---------------------------------------------------------------------------\u001b[0m",
      "\u001b[1;31mAttributeError\u001b[0m                            Traceback (most recent call last)",
      "\u001b[1;32m<ipython-input-29-5e7d6d8a725f>\u001b[0m in \u001b[0;36m<module>\u001b[1;34m()\u001b[0m\n\u001b[1;32m----> 1\u001b[1;33m \u001b[0mtrain_dataset\u001b[0m\u001b[1;33m.\u001b[0m\u001b[0mtrain_label\u001b[0m\u001b[1;33m\u001b[0m\u001b[0m\n\u001b[0m",
      "\u001b[1;31mAttributeError\u001b[0m: 'MNIST' object has no attribute 'train_label'"
     ]
    }
   ],
   "source": [
    "train_dataset.train_label"
   ]
  },
  {
   "cell_type": "code",
   "execution_count": 23,
   "metadata": {
    "colab": {
     "autoexec": {
      "startup": false,
      "wait_interval": 0
     },
     "base_uri": "https://localhost:8080/",
     "height": 960
    },
    "colab_type": "code",
    "executionInfo": {
     "elapsed": 705,
     "status": "error",
     "timestamp": 1526999055043,
     "user": {
      "displayName": "Milica Novakovic",
      "photoUrl": "//lh6.googleusercontent.com/-PdM9ODluhz0/AAAAAAAAAAI/AAAAAAAAABc/XV0m45-1Nmw/s50-c-k-no/photo.jpg",
      "userId": "110546638424582068159"
     },
     "user_tz": -120
    },
    "id": "yTvDV0BqxriD",
    "outputId": "9ca73954-ae42-4a98-ed6e-0708c417c757"
   },
   "outputs": [
    {
     "ename": "AttributeError",
     "evalue": "'MNIST' object has no attribute 'cuda'",
     "output_type": "error",
     "traceback": [
      "\u001b[1;31m---------------------------------------------------------------------------\u001b[0m",
      "\u001b[1;31mAttributeError\u001b[0m                            Traceback (most recent call last)",
      "\u001b[1;32m<ipython-input-23-508de0dd36d5>\u001b[0m in \u001b[0;36m<module>\u001b[1;34m()\u001b[0m\n\u001b[0;32m      4\u001b[0m \u001b[0mmini_batch\u001b[0m \u001b[1;33m=\u001b[0m \u001b[1;36m100\u001b[0m\u001b[1;33m\u001b[0m\u001b[0m\n\u001b[0;32m      5\u001b[0m \u001b[1;33m\u001b[0m\u001b[0m\n\u001b[1;32m----> 6\u001b[1;33m \u001b[0mtrain_loss_kfold\u001b[0m\u001b[1;33m,\u001b[0m \u001b[0mval_loss_kfold\u001b[0m\u001b[1;33m,\u001b[0m \u001b[0mtrain_acc_kfold\u001b[0m\u001b[1;33m,\u001b[0m \u001b[0mval_acc_kfold\u001b[0m \u001b[1;33m=\u001b[0m \u001b[0mtrain_model_kfold_sgd\u001b[0m\u001b[1;33m(\u001b[0m\u001b[0mmodel\u001b[0m\u001b[1;33m,\u001b[0m \u001b[0mtrain_dataset\u001b[0m\u001b[1;33m,\u001b[0m \u001b[0mkfold\u001b[0m\u001b[1;33m=\u001b[0m\u001b[1;36m5\u001b[0m\u001b[1;33m,\u001b[0m \u001b[0mshuffle\u001b[0m\u001b[1;33m=\u001b[0m\u001b[1;32mTrue\u001b[0m\u001b[1;33m,\u001b[0m \u001b[0mnb_epochs\u001b[0m \u001b[1;33m=\u001b[0m \u001b[0mnb_epochs\u001b[0m\u001b[1;33m,\u001b[0m \u001b[0mmini_batch_size\u001b[0m \u001b[1;33m=\u001b[0m \u001b[0mmini_batch\u001b[0m\u001b[1;33m,\u001b[0m \u001b[0mlr\u001b[0m \u001b[1;33m=\u001b[0m \u001b[1;36m1e-1\u001b[0m\u001b[1;33m)\u001b[0m\u001b[1;33m\u001b[0m\u001b[0m\n\u001b[0m",
      "\u001b[1;32m<ipython-input-22-063b9b69a8c2>\u001b[0m in \u001b[0;36mtrain_model_kfold_sgd\u001b[1;34m(model, train_dataset, kfold, shuffle, nb_epochs, mini_batch_size, lr)\u001b[0m\n\u001b[0;32m      5\u001b[0m \u001b[1;33m\u001b[0m\u001b[0m\n\u001b[0;32m      6\u001b[0m     \u001b[1;32mif\u001b[0m \u001b[0mtorch\u001b[0m\u001b[1;33m.\u001b[0m\u001b[0mcuda\u001b[0m\u001b[1;33m.\u001b[0m\u001b[0mis_available\u001b[0m\u001b[1;33m(\u001b[0m\u001b[1;33m)\u001b[0m\u001b[1;33m:\u001b[0m\u001b[1;33m\u001b[0m\u001b[0m\n\u001b[1;32m----> 7\u001b[1;33m         \u001b[0mtrain_dataset\u001b[0m \u001b[1;33m=\u001b[0m \u001b[0mtrain_dataset\u001b[0m\u001b[1;33m.\u001b[0m\u001b[0mcuda\u001b[0m\u001b[1;33m(\u001b[0m\u001b[1;33m)\u001b[0m\u001b[1;33m\u001b[0m\u001b[0m\n\u001b[0m\u001b[0;32m      8\u001b[0m         \u001b[0mcriterion\u001b[0m \u001b[1;33m=\u001b[0m \u001b[0mnn\u001b[0m\u001b[1;33m.\u001b[0m\u001b[0mCrossEntropyLoss\u001b[0m\u001b[1;33m(\u001b[0m\u001b[1;33m)\u001b[0m\u001b[1;33m.\u001b[0m\u001b[0mcuda\u001b[0m\u001b[1;33m(\u001b[0m\u001b[1;33m)\u001b[0m\u001b[1;33m\u001b[0m\u001b[0m\n\u001b[0;32m      9\u001b[0m \u001b[1;33m\u001b[0m\u001b[0m\n",
      "\u001b[1;31mAttributeError\u001b[0m: 'MNIST' object has no attribute 'cuda'"
     ]
    }
   ],
   "source": [
    "model = create_mnist_model()\n",
    "nb_epochs = 150\n",
    "lr = 1e-1\n",
    "mini_batch = 100\n",
    "\n",
    "train_loss_kfold, val_loss_kfold, train_acc_kfold, val_acc_kfold = train_model_kfold_sgd(model, train_dataset, kfold=5, shuffle=True, nb_epochs = nb_epochs, mini_batch_size = mini_batch, lr = 1e-1)\n"
   ]
  },
  {
   "cell_type": "markdown",
   "metadata": {
    "colab_type": "text",
    "id": "J2aecCOaN8HG"
   },
   "source": [
    "Plotting functions"
   ]
  },
  {
   "cell_type": "code",
   "execution_count": null,
   "metadata": {
    "colab": {
     "autoexec": {
      "startup": false,
      "wait_interval": 0
     },
     "base_uri": "https://localhost:8080/",
     "height": 167
    },
    "colab_type": "code",
    "executionInfo": {
     "elapsed": 967,
     "status": "error",
     "timestamp": 1526998753148,
     "user": {
      "displayName": "Milica Novakovic",
      "photoUrl": "//lh6.googleusercontent.com/-PdM9ODluhz0/AAAAAAAAAAI/AAAAAAAAABc/XV0m45-1Nmw/s50-c-k-no/photo.jpg",
      "userId": "110546638424582068159"
     },
     "user_tz": -120
    },
    "id": "TnjXT-LCN7cl",
    "outputId": "d3c81fb8-1ec1-46a8-f791-3b55a61bbecc"
   },
   "outputs": [],
   "source": [
    "plot_acc_loss(train_loss_kfold, val_loss_kfold, train_acc_kfold, val_acc_kfold)"
   ]
  },
  {
   "cell_type": "code",
   "execution_count": 0,
   "metadata": {
    "colab": {
     "autoexec": {
      "startup": false,
      "wait_interval": 0
     }
    },
    "colab_type": "code",
    "id": "joqT6RqEN9tC"
   },
   "outputs": [],
   "source": []
  }
 ],
 "metadata": {
  "accelerator": "GPU",
  "colab": {
   "default_view": {},
   "name": "OptiML_MNIST.ipynb",
   "provenance": [],
   "version": "0.3.2",
   "views": {}
  },
  "kernelspec": {
   "display_name": "Python 3",
   "language": "python",
   "name": "python3"
  },
  "language_info": {
   "codemirror_mode": {
    "name": "ipython",
    "version": 3
   },
   "file_extension": ".py",
   "mimetype": "text/x-python",
   "name": "python",
   "nbconvert_exporter": "python",
   "pygments_lexer": "ipython3",
   "version": "3.6.5"
  }
 },
 "nbformat": 4,
 "nbformat_minor": 1
}
