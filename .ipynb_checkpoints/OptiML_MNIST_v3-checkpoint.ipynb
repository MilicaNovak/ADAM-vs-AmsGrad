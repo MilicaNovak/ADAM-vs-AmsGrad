{
 "cells": [
  {
   "cell_type": "markdown",
   "metadata": {
    "colab_type": "text",
    "id": "nb49jUQXHpzg"
   },
   "source": [
    "### First cell can be skipped if you are not working with: https://colab.research.google.com/"
   ]
  },
  {
   "cell_type": "code",
   "execution_count": 1,
   "metadata": {
    "colab": {
     "autoexec": {
      "startup": false,
      "wait_interval": 0
     },
     "base_uri": "https://localhost:8080/",
     "height": 195
    },
    "colab_type": "code",
    "executionInfo": {
     "elapsed": 4724,
     "status": "ok",
     "timestamp": 1527026725179,
     "user": {
      "displayName": "Milica Novakovic",
      "photoUrl": "//lh6.googleusercontent.com/-PdM9ODluhz0/AAAAAAAAAAI/AAAAAAAAABc/XV0m45-1Nmw/s50-c-k-no/photo.jpg",
      "userId": "110546638424582068159"
     },
     "user_tz": -120
    },
    "id": "StSLCGlXG2vw",
    "outputId": "6d802cca-124d-4a48-ee9b-386f5f103495"
   },
   "outputs": [
    {
     "name": "stderr",
     "output_type": "stream",
     "text": [
      "torch-0.3.1-cp36-cp36m-linux_x86_64.whl is not a supported wheel on this platform.\n",
      "You are using pip version 9.0.1, however version 10.0.1 is available.\n",
      "You should consider upgrading via the 'python -m pip install --upgrade pip' command.\n"
     ]
    },
    {
     "name": "stdout",
     "output_type": "stream",
     "text": [
      "^C\n"
     ]
    }
   ],
   "source": [
    "!pip3 install http://download.pytorch.org/whl/cu90/torch-0.3.1-cp36-cp36m-linux_x86_64.whl \n",
    "!pip3 install torchvision"
   ]
  },
  {
   "cell_type": "code",
   "execution_count": 3,
   "metadata": {
    "colab": {
     "autoexec": {
      "startup": false,
      "wait_interval": 0
     }
    },
    "colab_type": "code",
    "id": "KPWyJyGAHNCI"
   },
   "outputs": [],
   "source": [
    "import torch\n",
    "import math\n",
    "import os\n",
    "\n",
    "from torch import optim\n",
    "from torch import Tensor\n",
    "from torch.autograd import Variable\n",
    "from torch import nn\n",
    "import torchvision\n",
    "from torchvision import datasets\n",
    "import torchvision.transforms as transforms\n",
    "import seaborn as sns\n",
    "from sklearn.model_selection import KFold\n",
    "from torch.utils.data.sampler import SubsetRandomSampler\n",
    "import matplotlib.pyplot as plt\n",
    "import numpy as np"
   ]
  },
  {
   "cell_type": "code",
   "execution_count": 4,
   "metadata": {
    "colab": {
     "autoexec": {
      "startup": false,
      "wait_interval": 0
     }
    },
    "colab_type": "code",
    "id": "DuwpUr0aOmYG"
   },
   "outputs": [],
   "source": [
    "def create_mnist_model():\n",
    "  return nn.Sequential(\n",
    "      nn.Linear(784, 100),\n",
    "      nn.ReLU(),\n",
    "      nn.Linear(100, 10)\n",
    "  )"
   ]
  },
  {
   "cell_type": "code",
   "execution_count": 5,
   "metadata": {
    "colab": {
     "autoexec": {
      "startup": false,
      "wait_interval": 0
     }
    },
    "colab_type": "code",
    "id": "JRcD-KMKs9kq"
   },
   "outputs": [],
   "source": [
    "def get_datasets(mini_batch_size=100):\n",
    "  transform = transforms.ToTensor()\n",
    "  root = './data'\n",
    "  if not os.path.exists(root):\n",
    "    os.mkdir(root)\n",
    "  # Load and transform data\n",
    "  train_dataset = torchvision.datasets.MNIST(root, train=True, download=True, transform=transform)\n",
    "  train_loader = torch.utils.data.DataLoader(train_dataset, batch_size=mini_batch_size, shuffle=True, num_workers=2)\n",
    "\n",
    "  test_dataset = torchvision.datasets.MNIST(root, train=False, download=True, transform=transform)\n",
    "  test_loader = torch.utils.data.DataLoader(test_dataset, batch_size=mini_batch_size, shuffle=False, num_workers=2)\n",
    "  return  train_dataset, train_loader, test_dataset, test_loader"
   ]
  },
  {
   "cell_type": "markdown",
   "metadata": {
    "colab_type": "text",
    "id": "bPMCm1BSfeOa"
   },
   "source": [
    "Function for training and validation/testing"
   ]
  },
  {
   "cell_type": "code",
   "execution_count": 6,
   "metadata": {
    "colab": {
     "autoexec": {
      "startup": false,
      "wait_interval": 0
     }
    },
    "colab_type": "code",
    "id": "0FsXcz8NtYZy"
   },
   "outputs": [],
   "source": [
    "def train_model(train_loader, model, criterion, optimizer):\n",
    "    # Set model for training\n",
    "    model.train()\n",
    "    \n",
    "    # Initialize counters to 0\n",
    "    nb_correct = 0\n",
    "    nb_elem = 0\n",
    "    loss_epoch = 0\n",
    "    \n",
    "    # Iterate over batches\n",
    "#     print(\"before first loop\")\n",
    "    for i, data in enumerate(train_loader):\n",
    "        # Create Variable\n",
    "#         print(\"variable\")\n",
    "        train_data, train_labels = data\n",
    "        train_data = train_data.view(train_data.size(0),-1).float()\n",
    "        \n",
    "        mean, std = train_data.mean(), train_data.std()\n",
    "        train_data.sub_(mean).div_(std)\n",
    "\n",
    "        inputs = Variable(train_data)\n",
    "        targets = Variable(train_labels)\n",
    "        if torch.cuda.is_available():\n",
    "          inputs = inputs.cuda()\n",
    "          targets = targets.cuda()\n",
    "\n",
    "        # Clear gradients\n",
    "        model.zero_grad()\n",
    "\n",
    "        # Forward pass\n",
    "#         print(\"type(inputs)\",type(inputs))\n",
    "#         print(\"inputs.size()\",inputs.size())\n",
    "        \n",
    "        outputs = model(inputs)\n",
    "\n",
    "        # Predicted labels (the one with highest probability)\n",
    "        pred_label = outputs.data.max(1)[1]\n",
    "\n",
    "         # Compute and store the loss\n",
    "        loss = criterion(outputs, targets)\n",
    "        loss_epoch += loss.data[0]\n",
    "        \n",
    "        # Update nb. correct and nb of elem\n",
    "        nb_correct += (pred_label == targets.data).sum()\n",
    "        nb_elem += len(pred_label)\n",
    "\n",
    "        # Backward pass\n",
    "        loss.backward()\n",
    "        optimizer.step()\n",
    "    \n",
    "    loss_epoch /=nb_elem\n",
    "    acc_epoch = nb_correct/nb_elem.\n",
    "    print(acc_epoch)\n",
    "#     print(\"loss_epoch\")\n",
    "    return loss_epoch, acc_epoch, mean, std\n",
    "\n",
    "\n",
    "def validate_model(val_loader, model, criterion, mean, std):\n",
    "    # Switch to evaluate mode\n",
    "    model.eval()\n",
    "\n",
    "    # Initialize counters\n",
    "    nb_correct = 0\n",
    "    nb_elem = 0\n",
    "    loss_epoch = 0\n",
    "    \n",
    "    # Iterate over batches\n",
    "    for data in val_loader:\n",
    "        # Create Variable\n",
    "        val_data, val_labels = data\n",
    "        val_data = val_data.view(val_data.size(0),-1).float()\n",
    "        val_data.sub_(mean).div_(std)\n",
    "        inputs = Variable(val_data)\n",
    "        targets = Variable(val_labels)\n",
    "        if torch.cuda.is_available():\n",
    "          inputs = inputs.cuda()\n",
    "          targets = targets.cuda()\n",
    "        \n",
    "        # Obtain predictions\n",
    "        outputs = model(inputs)\n",
    "        \n",
    "        # Predicted label (highest probability)\n",
    "        pred_label = outputs.data.max(1)[1]\n",
    "\n",
    "        # Loss\n",
    "        loss = criterion(outputs, targets)\n",
    "        loss_epoch += loss.data[0]\n",
    "\n",
    "        # Update nb. correct and nb. total\n",
    "        nb_correct += (pred_label == targets.data).sum()\n",
    "        nb_elem += len(pred_label)\n",
    "        \n",
    "    loss_epoch/=nb_elem\n",
    "    acc_epoch = nb_correct/nb_elem\n",
    "    return loss_epoch, acc_epoch"
   ]
  },
  {
   "cell_type": "markdown",
   "metadata": {
    "colab_type": "text",
    "id": "33CCXDGxQM1N"
   },
   "source": [
    "Main function for training and validation k-fold"
   ]
  },
  {
   "cell_type": "code",
   "execution_count": 7,
   "metadata": {
    "colab": {
     "autoexec": {
      "startup": false,
      "wait_interval": 0
     }
    },
    "colab_type": "code",
    "id": "ApRE0q8hP-Wj"
   },
   "outputs": [],
   "source": [
    "def train_model_kfold_sgd(model, train_dataset, kfold=5, shuffle=True, nb_epochs = 150, mini_batch_size = 100, lr = 1e-1):\n",
    "  criterion = nn.CrossEntropyLoss()\n",
    "  optimizer = optim.SGD(model.parameters(), lr)\n",
    "  \n",
    "  from sklearn.model_selection import KFold\n",
    "  from torch.utils.data.sampler import SubsetRandomSampler\n",
    "\n",
    "  kf = KFold(n_splits = kfold, shuffle=shuffle)\n",
    "\n",
    "  # Define vectors to store results for each fold\n",
    "  train_loss_kfold = []\n",
    "  val_loss_kfold = []\n",
    "  train_acc_kfold = []\n",
    "  val_acc_kfold = []\n",
    "  \n",
    "  for train_index, val_index in kf.split(train_dataset.train_data):\n",
    "    print(\"New split of data\")\n",
    "    train_sampler = SubsetRandomSampler(train_index)\n",
    "    val_sampler = SubsetRandomSampler(val_index)\n",
    "\n",
    "    train_loader = torch.utils.data.DataLoader(train_dataset, batch_size=mini_batch_size, sampler=train_sampler, drop_last=False)\n",
    "#     print(len(train_loader))\n",
    "    \n",
    "    val_loader = torch.utils.data.DataLoader(train_dataset, batch_size=mini_batch_size, sampler=val_sampler, drop_last=False)\n",
    "#     print(len(val_loader))\n",
    "    \n",
    "    model = create_mnist_model()\n",
    "    if torch.cuda.is_available():\n",
    "      model = model.cuda()\n",
    "      #train_dataset.input, val_dataset.input = train_input.cuda(), train_target.cuda(),test_input.cuda(), test_target.cuda()\n",
    "\n",
    "    # Store loss and accuracy per each epoch\n",
    "    train_e_loss = []\n",
    "    val_e_loss = []\n",
    "    train_e_acc = []\n",
    "    val_e_acc = []\n",
    "    \n",
    "    if torch.cuda.is_available():\n",
    "      criterion = nn.CrossEntropyLoss().cuda()\n",
    "    #optimizer = torch.optim.Adam(model.parameters(), lr=lr, betas=(beta1, beta2))\n",
    "    optimizer = optim.SGD(model.parameters(), lr)\n",
    "    \n",
    "    for epoch in range(0, nb_epochs):\n",
    "      if (epoch%10==0):\n",
    "        print(epoch)\n",
    "      # for this epoch calculate train loss, accuracy\n",
    "      train_loss, train_acc, mean, std = train_model(train_loader, model, criterion, optimizer)\n",
    "      # Store them in list to be able to plot\n",
    "      train_e_loss.append(train_loss)\n",
    "      train_e_acc.append(train_acc)\n",
    "\n",
    "      # Evaluate for epoch val loss and accuracy\n",
    "      val_loss, val_acc = validate_model(val_loader, model, criterion, mean, std)\n",
    "      # Store them in the list to be able to plot\n",
    "      val_e_loss.append(val_loss)\n",
    "      val_e_acc.append(val_acc)\n",
    "    \n",
    "    # for k-fold sets, store loss and accuracy through epochs \n",
    "    train_loss_kfold.append(train_e_loss)\n",
    "    val_loss_kfold.append(val_e_loss)\n",
    "    train_acc_kfold.append(train_e_acc)\n",
    "    val_acc_kfold.append(val_e_acc)\n",
    "    \n",
    "  return train_loss_kfold, val_loss_kfold, train_acc_kfold, val_acc_kfold"
   ]
  },
  {
   "cell_type": "code",
   "execution_count": 8,
   "metadata": {
    "colab": {
     "autoexec": {
      "startup": false,
      "wait_interval": 0
     }
    },
    "colab_type": "code",
    "id": "dNygZJKzQVKZ"
   },
   "outputs": [],
   "source": [
    "def train_model_kfold_adam(model, train_dataset, kfold=5, shuffle=True, nb_epochs = 150, mini_batch_size = 100, lr = 1e-1, beta1=0.9, beta2=0.999):\n",
    "  criterion = nn.CrossEntropyLoss()\n",
    "  optimizer = optim.SGD(model.parameters(), lr)\n",
    "  \n",
    "  from sklearn.model_selection import KFold\n",
    "  from torch.utils.data.sampler import SubsetRandomSampler\n",
    "\n",
    "  kf = KFold(n_splits = kfold, shuffle=shuffle)\n",
    "\n",
    "  # Define vectors to store results for each fold\n",
    "  train_loss_kfold = []\n",
    "  val_loss_kfold = []\n",
    "  train_acc_kfold = []\n",
    "  val_acc_kfold = []\n",
    "  \n",
    "  for train_index, val_index in kf.split(train_dataset.train_data):\n",
    "    print(\"New split of data\")\n",
    "    train_sampler = SubsetRandomSampler(train_index)\n",
    "    val_sampler = SubsetRandomSampler(val_index)\n",
    "\n",
    "    train_loader = torch.utils.data.DataLoader(train_dataset, batch_size=mini_batch_size, sampler=train_sampler, drop_last=False)\n",
    "#     print(len(train_loader))\n",
    "    \n",
    "    val_loader = torch.utils.data.DataLoader(train_dataset, batch_size=mini_batch_size, sampler=val_sampler, drop_last=False)\n",
    "#     print(len(val_loader))\n",
    "    \n",
    "    model = create_mnist_model()\n",
    "    if torch.cuda.is_available():\n",
    "      model = model.cuda()\n",
    "      #train_dataset.input, val_dataset.input = train_input.cuda(), train_target.cuda(),test_input.cuda(), test_target.cuda()\n",
    "\n",
    "    # Store loss and accuracy per each epoch\n",
    "    train_e_loss = []\n",
    "    val_e_loss = []\n",
    "    train_e_acc = []\n",
    "    val_e_acc = []\n",
    "    \n",
    "    if torch.cuda.is_available():\n",
    "      criterion = nn.CrossEntropyLoss().cuda()\n",
    "    optimizer = torch.optim.Adam(model.parameters(), lr=lr, betas=(beta1, beta2))\n",
    "\n",
    "    for epoch in range(0, nb_epochs):\n",
    "      if (epoch%10==0):\n",
    "        print(epoch)\n",
    "      # for this epoch calculate train loss, accuracy\n",
    "      train_loss, train_acc, mean, std = train_model(train_loader, model, criterion, optimizer)\n",
    "      # Store them in list to be able to plot\n",
    "      train_e_loss.append(train_loss)\n",
    "      train_e_acc.append(train_acc)\n",
    "\n",
    "      # Evaluate for epoch val loss and accuracy\n",
    "      val_loss, val_acc = validate_model(val_loader, model, criterion, mean, std)\n",
    "      # Store them in the list to be able to plot\n",
    "      val_e_loss.append(val_loss)\n",
    "      val_e_acc.append(val_acc)\n",
    "    \n",
    "    # for k-fold sets, store loss and accuracy through epochs \n",
    "    train_loss_kfold.append(train_e_loss)\n",
    "    val_loss_kfold.append(val_e_loss)\n",
    "    train_acc_kfold.append(train_e_acc)\n",
    "    val_acc_kfold.append(val_e_acc)\n",
    "    \n",
    "  return train_loss_kfold, val_loss_kfold, train_acc_kfold, val_acc_kfold"
   ]
  },
  {
   "cell_type": "markdown",
   "metadata": {
    "colab_type": "text",
    "id": "A6OqwjikGkbs"
   },
   "source": [
    "Function for plotting"
   ]
  },
  {
   "cell_type": "code",
   "execution_count": 9,
   "metadata": {
    "colab": {
     "autoexec": {
      "startup": false,
      "wait_interval": 0
     }
    },
    "colab_type": "code",
    "id": "UVwguvRBGjbG"
   },
   "outputs": [],
   "source": [
    "import seaborn as sns\n",
    "import matplotlib.pyplot as plt\n",
    "def plot_acc_loss(tr_loss, te_loss, tr_acc, te_acc, title=\"MNIST\"):   \n",
    "    plt.figure()\n",
    "    title=\"MNIST loss\"\n",
    "    sns.tsplot(np.array(tr_loss)).set_title(title)\n",
    "    sns.tsplot(np.array(te_loss), color = 'r')\n",
    "    plt.legend(['Train', 'Validation'])\n",
    "    plt.xlabel('Epoch')\n",
    "    plt.ylabel('Loss')\n",
    "\n",
    "    plt.figure()\n",
    "    title=\"MNIST accuracy\"\n",
    "    sns.tsplot(np.array(tr_acc)).set_title(title)\n",
    "    sns.tsplot(np.array(te_acc), color = 'r')\n",
    "    plt.legend(['Train', 'Validation'])\n",
    "    plt.xlabel('Epoch')\n",
    "    plt.ylabel('Accuracy')"
   ]
  },
  {
   "cell_type": "markdown",
   "metadata": {
    "colab_type": "text",
    "id": "xiX6YF-9SH6n"
   },
   "source": [
    "Main function for training and testing on whole train and test, once the parameters are picked"
   ]
  },
  {
   "cell_type": "code",
   "execution_count": 10,
   "metadata": {
    "colab": {
     "autoexec": {
      "startup": false,
      "wait_interval": 0
     }
    },
    "colab_type": "code",
    "id": "iMJUM-s7SHY0"
   },
   "outputs": [],
   "source": [
    "def train_test_model_sgd(model, train_dataset, test_dataset, shuffle=True, nb_epochs = 150, mini_batch_size = 100, lr = 1e-1):\n",
    "  criterion = nn.CrossEntropyLoss()\n",
    "  optimizer = optim.SGD(model.parameters(), lr)\n",
    "  \n",
    "  from torch.utils.data.sampler import SubsetRandomSampler\n",
    "\n",
    "  train_loader = torch.utils.data.DataLoader(train_dataset, batch_size=mini_batch_size, sampler=train_sampler, drop_last=False)\n",
    "#     print(len(train_loader))\n",
    "\n",
    "  test_loader = torch.utils.data.DataLoader(test_dataset, batch_size=mini_batch_size, sampler=val_sampler, drop_last=False)\n",
    "#     print(len(val_loader))\n",
    "\n",
    "  model = create_mnist_model()\n",
    "  if torch.cuda.is_available():\n",
    "    model = model.cuda()\n",
    " \n",
    "  # Store loss and accuracy per each epoch\n",
    "  train_e_loss = []\n",
    "  test_e_loss = []\n",
    "  train_e_acc = []\n",
    "  test_e_acc = []\n",
    "\n",
    "  if torch.cuda.is_available():\n",
    "    criterion = nn.CrossEntropyLoss().cuda()\n",
    "  #optimizer = torch.optim.Adam(model.parameters(), lr=lr, betas=(beta1, beta2))\n",
    "  optimizer = optim.SGD(model.parameters(), lr)\n",
    "\n",
    "  for epoch in range(0, nb_epochs):\n",
    "    if (epoch%10==0):\n",
    "      print(epoch)\n",
    "    # here we normalize data on train set and take mean and std for test set\n",
    "    train_loss, train_acc, mean, std = train_model(train_loader, model, criterion, optimizer)\n",
    "    # Store them in list to be able to plot\n",
    "    train_e_loss.append(train_loss)\n",
    "    train_e_acc.append(train_acc)\n",
    "\n",
    "    # Evaluate for epoch val loss and accuracy\n",
    "    test_loss, test_acc = validate_model(test_loader, model, criterion, mean, std)\n",
    "    # Store them in the list to be able to plot\n",
    "    test_e_loss.append(test_loss)\n",
    "    test_e_acc.append(test_acc)\n",
    "    \n",
    "    # for k-fold sets, store loss and accuracy through epochs \n",
    "    train_loss_kfold.append(train_e_loss)\n",
    "    test_loss_kfold.append(test_e_loss)\n",
    "    train_acc_kfold.append(train_e_acc)\n",
    "    test_acc_kfold.append(test_e_acc)\n",
    "    \n",
    "  return train_loss_kfold, test_loss_kfold, train_acc_kfold, test_acc_kfold"
   ]
  },
  {
   "cell_type": "code",
   "execution_count": 11,
   "metadata": {
    "colab": {
     "autoexec": {
      "startup": false,
      "wait_interval": 0
     }
    },
    "colab_type": "code",
    "id": "OVweAwaXTVdz"
   },
   "outputs": [],
   "source": [
    "def train_test_model_adam(model, train_dataset, test_dataset, shuffle=True, nb_epochs = 150, mini_batch_size = 100, lr = 1e-1, beta1= 0.9, beta2 = 0.999):\n",
    "  criterion = nn.CrossEntropyLoss()\n",
    "  optimizer = optim.SGD(model.parameters(), lr)\n",
    "  \n",
    "  from torch.utils.data.sampler import SubsetRandomSampler\n",
    "\n",
    "  train_loader = torch.utils.data.DataLoader(train_dataset, batch_size=mini_batch_size, sampler=train_sampler, drop_last=False)\n",
    "#     print(len(train_loader))\n",
    "\n",
    "  test_loader = torch.utils.data.DataLoader(test_dataset, batch_size=mini_batch_size, sampler=val_sampler, drop_last=False)\n",
    "#     print(len(val_loader))\n",
    "\n",
    "  model = create_mnist_model()\n",
    "  if torch.cuda.is_available():\n",
    "    model = model.cuda()\n",
    " \n",
    "  # Store loss and accuracy per each epoch\n",
    "  train_e_loss = []\n",
    "  test_e_loss = []\n",
    "  train_e_acc = []\n",
    "  test_e_acc = []\n",
    "\n",
    "  if torch.cuda.is_available():\n",
    "    criterion = nn.CrossEntropyLoss().cuda()\n",
    "  optimizer = torch.optim.Adam(model.parameters(), lr=lr, betas=(beta1, beta2))\n",
    "\n",
    "  for epoch in range(0, nb_epochs):\n",
    "    if (epoch%10==0):\n",
    "      print(epoch)\n",
    "    # here we normalize data on train set and take mean and std for test set\n",
    "    train_loss, train_acc, mean, std = train_model(train_loader, model, criterion, optimizer)\n",
    "    # Store them in list to be able to plot\n",
    "    train_e_loss.append(train_loss)\n",
    "    train_e_acc.append(train_acc)\n",
    "\n",
    "    # Evaluate for epoch val loss and accuracy\n",
    "    test_loss, test_acc = validate_model(test_loader, model, criterion, mean, std)\n",
    "    # Store them in the list to be able to plot\n",
    "    test_e_loss.append(test_loss)\n",
    "    test_e_acc.append(test_acc)\n",
    "    \n",
    "    # for k-fold sets, store loss and accuracy through epochs \n",
    "    train_loss_kfold.append(train_e_loss)\n",
    "    test_loss_kfold.append(test_e_loss)\n",
    "    train_acc_kfold.append(train_e_acc)\n",
    "    test_acc_kfold.append(test_e_acc)\n",
    "    \n",
    "  return train_loss_kfold, test_loss_kfold, train_acc_kfold, test_acc_kfold"
   ]
  },
  {
   "cell_type": "markdown",
   "metadata": {
    "colab_type": "text",
    "id": "YzcD3pV7RBhL"
   },
   "source": [
    "Load data"
   ]
  },
  {
   "cell_type": "code",
   "execution_count": 12,
   "metadata": {
    "colab": {
     "autoexec": {
      "startup": false,
      "wait_interval": 0
     }
    },
    "colab_type": "code",
    "id": "joqT6RqEN9tC"
   },
   "outputs": [],
   "source": [
    "mini_batch = 100\n",
    "train_dataset, train_loader, test_dataset, test_loader = get_datasets(mini_batch_size = mini_batch)"
   ]
  },
  {
   "cell_type": "markdown",
   "metadata": {
    "colab_type": "text",
    "id": "fUR1U4H0RHHO"
   },
   "source": [
    "Train the sgd"
   ]
  },
  {
   "cell_type": "code",
   "execution_count": 17,
   "metadata": {},
   "outputs": [
    {
     "data": {
      "text/plain": [
       "[[tensor(0, device='cuda:0'),\n",
       "  tensor(0, device='cuda:0'),\n",
       "  tensor(0, device='cuda:0'),\n",
       "  tensor(0, device='cuda:0'),\n",
       "  tensor(0, device='cuda:0'),\n",
       "  tensor(0, device='cuda:0'),\n",
       "  tensor(0, device='cuda:0'),\n",
       "  tensor(0, device='cuda:0'),\n",
       "  tensor(0, device='cuda:0'),\n",
       "  tensor(0, device='cuda:0'),\n",
       "  tensor(0, device='cuda:0'),\n",
       "  tensor(0, device='cuda:0'),\n",
       "  tensor(0, device='cuda:0'),\n",
       "  tensor(0, device='cuda:0'),\n",
       "  tensor(0, device='cuda:0'),\n",
       "  tensor(0, device='cuda:0'),\n",
       "  tensor(0, device='cuda:0'),\n",
       "  tensor(0, device='cuda:0'),\n",
       "  tensor(0, device='cuda:0'),\n",
       "  tensor(0, device='cuda:0'),\n",
       "  tensor(0, device='cuda:0'),\n",
       "  tensor(0, device='cuda:0'),\n",
       "  tensor(0, device='cuda:0'),\n",
       "  tensor(0, device='cuda:0'),\n",
       "  tensor(0, device='cuda:0'),\n",
       "  tensor(0, device='cuda:0'),\n",
       "  tensor(0, device='cuda:0'),\n",
       "  tensor(1, device='cuda:0'),\n",
       "  tensor(0, device='cuda:0'),\n",
       "  tensor(1, device='cuda:0'),\n",
       "  tensor(1, device='cuda:0'),\n",
       "  tensor(1, device='cuda:0'),\n",
       "  tensor(1, device='cuda:0'),\n",
       "  tensor(1, device='cuda:0'),\n",
       "  tensor(1, device='cuda:0'),\n",
       "  tensor(1, device='cuda:0'),\n",
       "  tensor(1, device='cuda:0'),\n",
       "  tensor(1, device='cuda:0'),\n",
       "  tensor(1, device='cuda:0'),\n",
       "  tensor(1, device='cuda:0'),\n",
       "  tensor(1, device='cuda:0'),\n",
       "  tensor(1, device='cuda:0'),\n",
       "  tensor(1, device='cuda:0'),\n",
       "  tensor(1, device='cuda:0'),\n",
       "  tensor(1, device='cuda:0'),\n",
       "  tensor(1, device='cuda:0'),\n",
       "  tensor(1, device='cuda:0'),\n",
       "  tensor(1, device='cuda:0'),\n",
       "  tensor(1, device='cuda:0'),\n",
       "  tensor(1, device='cuda:0'),\n",
       "  tensor(1, device='cuda:0'),\n",
       "  tensor(1, device='cuda:0'),\n",
       "  tensor(1, device='cuda:0'),\n",
       "  tensor(1, device='cuda:0'),\n",
       "  tensor(1, device='cuda:0'),\n",
       "  tensor(1, device='cuda:0'),\n",
       "  tensor(1, device='cuda:0'),\n",
       "  tensor(1, device='cuda:0'),\n",
       "  tensor(1, device='cuda:0'),\n",
       "  tensor(1, device='cuda:0'),\n",
       "  tensor(1, device='cuda:0'),\n",
       "  tensor(1, device='cuda:0'),\n",
       "  tensor(1, device='cuda:0'),\n",
       "  tensor(1, device='cuda:0'),\n",
       "  tensor(1, device='cuda:0'),\n",
       "  tensor(1, device='cuda:0'),\n",
       "  tensor(1, device='cuda:0'),\n",
       "  tensor(1, device='cuda:0'),\n",
       "  tensor(1, device='cuda:0'),\n",
       "  tensor(1, device='cuda:0'),\n",
       "  tensor(1, device='cuda:0'),\n",
       "  tensor(1, device='cuda:0'),\n",
       "  tensor(1, device='cuda:0'),\n",
       "  tensor(1, device='cuda:0'),\n",
       "  tensor(1, device='cuda:0'),\n",
       "  tensor(1, device='cuda:0'),\n",
       "  tensor(1, device='cuda:0'),\n",
       "  tensor(1, device='cuda:0'),\n",
       "  tensor(1, device='cuda:0'),\n",
       "  tensor(1, device='cuda:0'),\n",
       "  tensor(1, device='cuda:0'),\n",
       "  tensor(1, device='cuda:0'),\n",
       "  tensor(1, device='cuda:0'),\n",
       "  tensor(1, device='cuda:0'),\n",
       "  tensor(1, device='cuda:0'),\n",
       "  tensor(1, device='cuda:0'),\n",
       "  tensor(1, device='cuda:0'),\n",
       "  tensor(1, device='cuda:0'),\n",
       "  tensor(1, device='cuda:0'),\n",
       "  tensor(1, device='cuda:0'),\n",
       "  tensor(1, device='cuda:0'),\n",
       "  tensor(1, device='cuda:0'),\n",
       "  tensor(1, device='cuda:0'),\n",
       "  tensor(1, device='cuda:0'),\n",
       "  tensor(1, device='cuda:0'),\n",
       "  tensor(1, device='cuda:0'),\n",
       "  tensor(1, device='cuda:0'),\n",
       "  tensor(1, device='cuda:0'),\n",
       "  tensor(1, device='cuda:0'),\n",
       "  tensor(1, device='cuda:0')],\n",
       " [tensor(0, device='cuda:0'),\n",
       "  tensor(0, device='cuda:0'),\n",
       "  tensor(0, device='cuda:0'),\n",
       "  tensor(0, device='cuda:0'),\n",
       "  tensor(0, device='cuda:0'),\n",
       "  tensor(0, device='cuda:0'),\n",
       "  tensor(0, device='cuda:0'),\n",
       "  tensor(0, device='cuda:0'),\n",
       "  tensor(0, device='cuda:0'),\n",
       "  tensor(0, device='cuda:0'),\n",
       "  tensor(0, device='cuda:0'),\n",
       "  tensor(0, device='cuda:0'),\n",
       "  tensor(0, device='cuda:0'),\n",
       "  tensor(0, device='cuda:0'),\n",
       "  tensor(0, device='cuda:0'),\n",
       "  tensor(0, device='cuda:0'),\n",
       "  tensor(0, device='cuda:0'),\n",
       "  tensor(0, device='cuda:0'),\n",
       "  tensor(0, device='cuda:0'),\n",
       "  tensor(0, device='cuda:0'),\n",
       "  tensor(0, device='cuda:0'),\n",
       "  tensor(0, device='cuda:0'),\n",
       "  tensor(0, device='cuda:0'),\n",
       "  tensor(0, device='cuda:0'),\n",
       "  tensor(0, device='cuda:0'),\n",
       "  tensor(0, device='cuda:0'),\n",
       "  tensor(0, device='cuda:0'),\n",
       "  tensor(0, device='cuda:0'),\n",
       "  tensor(0, device='cuda:0'),\n",
       "  tensor(0, device='cuda:0'),\n",
       "  tensor(0, device='cuda:0'),\n",
       "  tensor(0, device='cuda:0'),\n",
       "  tensor(0, device='cuda:0'),\n",
       "  tensor(1, device='cuda:0'),\n",
       "  tensor(1, device='cuda:0'),\n",
       "  tensor(1, device='cuda:0'),\n",
       "  tensor(1, device='cuda:0'),\n",
       "  tensor(1, device='cuda:0'),\n",
       "  tensor(0, device='cuda:0'),\n",
       "  tensor(1, device='cuda:0'),\n",
       "  tensor(1, device='cuda:0'),\n",
       "  tensor(1, device='cuda:0'),\n",
       "  tensor(1, device='cuda:0'),\n",
       "  tensor(1, device='cuda:0'),\n",
       "  tensor(1, device='cuda:0'),\n",
       "  tensor(1, device='cuda:0'),\n",
       "  tensor(1, device='cuda:0'),\n",
       "  tensor(1, device='cuda:0'),\n",
       "  tensor(1, device='cuda:0'),\n",
       "  tensor(1, device='cuda:0'),\n",
       "  tensor(1, device='cuda:0'),\n",
       "  tensor(1, device='cuda:0'),\n",
       "  tensor(1, device='cuda:0'),\n",
       "  tensor(1, device='cuda:0'),\n",
       "  tensor(1, device='cuda:0'),\n",
       "  tensor(1, device='cuda:0'),\n",
       "  tensor(1, device='cuda:0'),\n",
       "  tensor(1, device='cuda:0'),\n",
       "  tensor(1, device='cuda:0'),\n",
       "  tensor(1, device='cuda:0'),\n",
       "  tensor(1, device='cuda:0'),\n",
       "  tensor(1, device='cuda:0'),\n",
       "  tensor(1, device='cuda:0'),\n",
       "  tensor(1, device='cuda:0'),\n",
       "  tensor(1, device='cuda:0'),\n",
       "  tensor(1, device='cuda:0'),\n",
       "  tensor(1, device='cuda:0'),\n",
       "  tensor(1, device='cuda:0'),\n",
       "  tensor(1, device='cuda:0'),\n",
       "  tensor(1, device='cuda:0'),\n",
       "  tensor(1, device='cuda:0'),\n",
       "  tensor(1, device='cuda:0'),\n",
       "  tensor(1, device='cuda:0'),\n",
       "  tensor(1, device='cuda:0'),\n",
       "  tensor(1, device='cuda:0'),\n",
       "  tensor(1, device='cuda:0'),\n",
       "  tensor(1, device='cuda:0'),\n",
       "  tensor(1, device='cuda:0'),\n",
       "  tensor(1, device='cuda:0'),\n",
       "  tensor(1, device='cuda:0'),\n",
       "  tensor(1, device='cuda:0'),\n",
       "  tensor(1, device='cuda:0'),\n",
       "  tensor(1, device='cuda:0'),\n",
       "  tensor(1, device='cuda:0'),\n",
       "  tensor(1, device='cuda:0'),\n",
       "  tensor(1, device='cuda:0'),\n",
       "  tensor(1, device='cuda:0'),\n",
       "  tensor(1, device='cuda:0'),\n",
       "  tensor(1, device='cuda:0'),\n",
       "  tensor(1, device='cuda:0'),\n",
       "  tensor(1, device='cuda:0'),\n",
       "  tensor(1, device='cuda:0'),\n",
       "  tensor(1, device='cuda:0'),\n",
       "  tensor(1, device='cuda:0'),\n",
       "  tensor(1, device='cuda:0'),\n",
       "  tensor(1, device='cuda:0'),\n",
       "  tensor(1, device='cuda:0'),\n",
       "  tensor(1, device='cuda:0'),\n",
       "  tensor(1, device='cuda:0'),\n",
       "  tensor(1, device='cuda:0')]]"
      ]
     },
     "execution_count": 17,
     "metadata": {},
     "output_type": "execute_result"
    }
   ],
   "source": [
    "train_acc_kfold"
   ]
  },
  {
   "cell_type": "code",
   "execution_count": 13,
   "metadata": {
    "colab": {
     "autoexec": {
      "startup": false,
      "wait_interval": 0
     },
     "base_uri": "https://localhost:8080/",
     "height": 732
    },
    "colab_type": "code",
    "executionInfo": {
     "elapsed": 1246319,
     "status": "error",
     "timestamp": 1527033510859,
     "user": {
      "displayName": "Milica Novakovic",
      "photoUrl": "//lh6.googleusercontent.com/-PdM9ODluhz0/AAAAAAAAAAI/AAAAAAAAABc/XV0m45-1Nmw/s50-c-k-no/photo.jpg",
      "userId": "110546638424582068159"
     },
     "user_tz": -120
    },
    "id": "xlQBrmWVv46c",
    "outputId": "b826a999-bdcb-41b3-9142-744a6e23fd8e"
   },
   "outputs": [
    {
     "name": "stdout",
     "output_type": "stream",
     "text": [
      "New split of data\n",
      "0\n"
     ]
    },
    {
     "name": "stderr",
     "output_type": "stream",
     "text": [
      "D:\\Work\\Anaconda3\\lib\\site-packages\\ipykernel_launcher.py:41: UserWarning: invalid index of a 0-dim tensor. This will be an error in PyTorch 0.5. Use tensor.item() to convert a 0-dim tensor to a Python number\n",
      "D:\\Work\\Anaconda3\\lib\\site-packages\\ipykernel_launcher.py:86: UserWarning: invalid index of a 0-dim tensor. This will be an error in PyTorch 0.5. Use tensor.item() to convert a 0-dim tensor to a Python number\n"
     ]
    },
    {
     "name": "stdout",
     "output_type": "stream",
     "text": [
      "10\n",
      "20\n",
      "30\n",
      "40\n",
      "50\n",
      "60\n",
      "70\n",
      "80\n",
      "90\n",
      "New split of data\n",
      "0\n",
      "10\n",
      "20\n",
      "30\n",
      "40\n",
      "50\n",
      "60\n",
      "70\n",
      "80\n",
      "90\n"
     ]
    },
    {
     "name": "stderr",
     "output_type": "stream",
     "text": [
      "D:\\Work\\Anaconda3\\lib\\site-packages\\seaborn\\timeseries.py:183: UserWarning: The tsplot function is deprecated and will be removed or replaced (in a substantially altered version) in a future release.\n",
      "  warnings.warn(msg, UserWarning)\n"
     ]
    },
    {
     "data": {
      "image/png": "[encoded data removed]",
      "text/plain": [
       "<matplotlib.figure.Figure at 0x1b93a5000f0>"
      ]
     },
     "metadata": {},
     "output_type": "display_data"
    },
    {
     "data": {
      "image/png": "[encoded data removed]",
      "text/plain": [
       "<matplotlib.figure.Figure at 0x1b9040ffb00>"
      ]
     },
     "metadata": {},
     "output_type": "display_data"
    }
   ],
   "source": [
    "model = create_mnist_model()\n",
    "nb_epochs = 100\n",
    "lr = 1e-1\n",
    "mini_batch = 100\n",
    "\n",
    "train_loss_kfold, val_loss_kfold, train_acc_kfold, val_acc_kfold = train_model_kfold_sgd(model, train_dataset, kfold=2, shuffle=True, nb_epochs = nb_epochs, mini_batch_size = mini_batch, lr = 1e-1)\n",
    "plot_acc_loss(train_loss_kfold, val_loss_kfold, train_acc_kfold, val_acc_kfold)"
   ]
  },
  {
   "cell_type": "markdown",
   "metadata": {
    "colab_type": "text",
    "id": "WyoazM75UYeK"
   },
   "source": [
    "I have not imported plt, so that was the error"
   ]
  },
  {
   "cell_type": "code",
   "execution_count": 14,
   "metadata": {
    "colab": {
     "autoexec": {
      "startup": false,
      "wait_interval": 0
     },
     "base_uri": "https://localhost:8080/",
     "height": 734
    },
    "colab_type": "code",
    "executionInfo": {
     "elapsed": 1791,
     "status": "ok",
     "timestamp": 1527033857961,
     "user": {
      "displayName": "Milica Novakovic",
      "photoUrl": "//lh6.googleusercontent.com/-PdM9ODluhz0/AAAAAAAAAAI/AAAAAAAAABc/XV0m45-1Nmw/s50-c-k-no/photo.jpg",
      "userId": "110546638424582068159"
     },
     "user_tz": -120
    },
    "id": "KezW7k6iTx9u",
    "outputId": "c47bdedd-2f68-4089-e590-46f3efc6bed8"
   },
   "outputs": [
    {
     "name": "stderr",
     "output_type": "stream",
     "text": [
      "D:\\Work\\Anaconda3\\lib\\site-packages\\seaborn\\timeseries.py:183: UserWarning: The tsplot function is deprecated and will be removed or replaced (in a substantially altered version) in a future release.\n",
      "  warnings.warn(msg, UserWarning)\n"
     ]
    },
    {
     "data": {
      "image/png": "[encoded data removed]",
      "text/plain": [
       "<matplotlib.figure.Figure at 0x1b90b0f0908>"
      ]
     },
     "metadata": {},
     "output_type": "display_data"
    },
    {
     "data": {
      "image/png": "[encoded data removed]",
      "text/plain": [
       "<matplotlib.figure.Figure at 0x1b9041389b0>"
      ]
     },
     "metadata": {},
     "output_type": "display_data"
    }
   ],
   "source": [
    "plot_acc_loss(train_loss_kfold, val_loss_kfold, train_acc_kfold, val_acc_kfold)"
   ]
  },
  {
   "cell_type": "code",
   "execution_count": 15,
   "metadata": {
    "colab": {
     "autoexec": {
      "startup": false,
      "wait_interval": 0
     }
    },
    "colab_type": "code",
    "id": "w88ndONKv-PG"
   },
   "outputs": [
    {
     "name": "stdout",
     "output_type": "stream",
     "text": [
      "lr  1e-05\n",
      "New split of data\n",
      "0\n"
     ]
    },
    {
     "name": "stderr",
     "output_type": "stream",
     "text": [
      "D:\\Work\\Anaconda3\\lib\\site-packages\\ipykernel_launcher.py:41: UserWarning: invalid index of a 0-dim tensor. This will be an error in PyTorch 0.5. Use tensor.item() to convert a 0-dim tensor to a Python number\n",
      "D:\\Work\\Anaconda3\\lib\\site-packages\\ipykernel_launcher.py:86: UserWarning: invalid index of a 0-dim tensor. This will be an error in PyTorch 0.5. Use tensor.item() to convert a 0-dim tensor to a Python number\n"
     ]
    },
    {
     "name": "stdout",
     "output_type": "stream",
     "text": [
      "10\n",
      "20\n",
      "30\n",
      "40\n",
      "50\n",
      "60\n",
      "70\n"
     ]
    },
    {
     "ename": "KeyboardInterrupt",
     "evalue": "",
     "output_type": "error",
     "traceback": [
      "\u001b[1;31m---------------------------------------------------------------------------\u001b[0m",
      "\u001b[1;31mKeyboardInterrupt\u001b[0m                         Traceback (most recent call last)",
      "\u001b[1;32m<ipython-input-15-5da4a139870b>\u001b[0m in \u001b[0;36m<module>\u001b[1;34m()\u001b[0m\n\u001b[0;32m     15\u001b[0m   \u001b[0mtitle\u001b[0m \u001b[1;33m=\u001b[0m \u001b[1;34m\"lr \"\u001b[0m\u001b[1;33m+\u001b[0m\u001b[0mstr\u001b[0m\u001b[1;33m(\u001b[0m\u001b[0mlr\u001b[0m\u001b[1;33m)\u001b[0m\u001b[1;33m\u001b[0m\u001b[0m\n\u001b[0;32m     16\u001b[0m \u001b[1;33m\u001b[0m\u001b[0m\n\u001b[1;32m---> 17\u001b[1;33m   \u001b[0mtrain_loss_kfold\u001b[0m\u001b[1;33m,\u001b[0m \u001b[0mval_loss_kfold\u001b[0m\u001b[1;33m,\u001b[0m \u001b[0mtrain_acc_kfold\u001b[0m\u001b[1;33m,\u001b[0m \u001b[0mval_acc_kfold\u001b[0m \u001b[1;33m=\u001b[0m \u001b[0mtrain_model_kfold_sgd\u001b[0m\u001b[1;33m(\u001b[0m\u001b[0mmodel\u001b[0m\u001b[1;33m,\u001b[0m \u001b[0mtrain_dataset\u001b[0m\u001b[1;33m,\u001b[0m \u001b[0mkfold\u001b[0m\u001b[1;33m=\u001b[0m\u001b[0mkfold\u001b[0m\u001b[1;33m,\u001b[0m \u001b[0mshuffle\u001b[0m\u001b[1;33m=\u001b[0m\u001b[1;32mTrue\u001b[0m\u001b[1;33m,\u001b[0m \u001b[0mnb_epochs\u001b[0m \u001b[1;33m=\u001b[0m \u001b[0mnb_epochs\u001b[0m\u001b[1;33m,\u001b[0m \u001b[0mmini_batch_size\u001b[0m \u001b[1;33m=\u001b[0m \u001b[0mmini_batch\u001b[0m\u001b[1;33m,\u001b[0m \u001b[0mlr\u001b[0m \u001b[1;33m=\u001b[0m \u001b[0mlr\u001b[0m\u001b[1;33m)\u001b[0m\u001b[1;33m\u001b[0m\u001b[0m\n\u001b[0m\u001b[0;32m     18\u001b[0m   \u001b[1;31m# Plot\u001b[0m\u001b[1;33m\u001b[0m\u001b[1;33m\u001b[0m\u001b[0m\n\u001b[0;32m     19\u001b[0m \u001b[1;33m\u001b[0m\u001b[0m\n",
      "\u001b[1;32m<ipython-input-7-385acc42532b>\u001b[0m in \u001b[0;36mtrain_model_kfold_sgd\u001b[1;34m(model, train_dataset, kfold, shuffle, nb_epochs, mini_batch_size, lr)\u001b[0m\n\u001b[0;32m     51\u001b[0m \u001b[1;33m\u001b[0m\u001b[0m\n\u001b[0;32m     52\u001b[0m       \u001b[1;31m# Evaluate for epoch val loss and accuracy\u001b[0m\u001b[1;33m\u001b[0m\u001b[1;33m\u001b[0m\u001b[0m\n\u001b[1;32m---> 53\u001b[1;33m       \u001b[0mval_loss\u001b[0m\u001b[1;33m,\u001b[0m \u001b[0mval_acc\u001b[0m \u001b[1;33m=\u001b[0m \u001b[0mvalidate_model\u001b[0m\u001b[1;33m(\u001b[0m\u001b[0mval_loader\u001b[0m\u001b[1;33m,\u001b[0m \u001b[0mmodel\u001b[0m\u001b[1;33m,\u001b[0m \u001b[0mcriterion\u001b[0m\u001b[1;33m,\u001b[0m \u001b[0mmean\u001b[0m\u001b[1;33m,\u001b[0m \u001b[0mstd\u001b[0m\u001b[1;33m)\u001b[0m\u001b[1;33m\u001b[0m\u001b[0m\n\u001b[0m\u001b[0;32m     54\u001b[0m       \u001b[1;31m# Store them in the list to be able to plot\u001b[0m\u001b[1;33m\u001b[0m\u001b[1;33m\u001b[0m\u001b[0m\n\u001b[0;32m     55\u001b[0m       \u001b[0mval_e_loss\u001b[0m\u001b[1;33m.\u001b[0m\u001b[0mappend\u001b[0m\u001b[1;33m(\u001b[0m\u001b[0mval_loss\u001b[0m\u001b[1;33m)\u001b[0m\u001b[1;33m\u001b[0m\u001b[0m\n",
      "\u001b[1;32m<ipython-input-6-24b22d1f7387>\u001b[0m in \u001b[0;36mvalidate_model\u001b[1;34m(val_loader, model, criterion, mean, std)\u001b[0m\n\u001b[0;32m     65\u001b[0m \u001b[1;33m\u001b[0m\u001b[0m\n\u001b[0;32m     66\u001b[0m     \u001b[1;31m# Iterate over batches\u001b[0m\u001b[1;33m\u001b[0m\u001b[1;33m\u001b[0m\u001b[0m\n\u001b[1;32m---> 67\u001b[1;33m     \u001b[1;32mfor\u001b[0m \u001b[0mdata\u001b[0m \u001b[1;32min\u001b[0m \u001b[0mval_loader\u001b[0m\u001b[1;33m:\u001b[0m\u001b[1;33m\u001b[0m\u001b[0m\n\u001b[0m\u001b[0;32m     68\u001b[0m         \u001b[1;31m# Create Variable\u001b[0m\u001b[1;33m\u001b[0m\u001b[1;33m\u001b[0m\u001b[0m\n\u001b[0;32m     69\u001b[0m         \u001b[0mval_data\u001b[0m\u001b[1;33m,\u001b[0m \u001b[0mval_labels\u001b[0m \u001b[1;33m=\u001b[0m \u001b[0mdata\u001b[0m\u001b[1;33m\u001b[0m\u001b[0m\n",
      "\u001b[1;32mD:\\Work\\Anaconda3\\lib\\site-packages\\torch\\utils\\data\\dataloader.py\u001b[0m in \u001b[0;36m__next__\u001b[1;34m(self)\u001b[0m\n\u001b[0;32m    262\u001b[0m         \u001b[1;32mif\u001b[0m \u001b[0mself\u001b[0m\u001b[1;33m.\u001b[0m\u001b[0mnum_workers\u001b[0m \u001b[1;33m==\u001b[0m \u001b[1;36m0\u001b[0m\u001b[1;33m:\u001b[0m  \u001b[1;31m# same-process loading\u001b[0m\u001b[1;33m\u001b[0m\u001b[0m\n\u001b[0;32m    263\u001b[0m             \u001b[0mindices\u001b[0m \u001b[1;33m=\u001b[0m \u001b[0mnext\u001b[0m\u001b[1;33m(\u001b[0m\u001b[0mself\u001b[0m\u001b[1;33m.\u001b[0m\u001b[0msample_iter\u001b[0m\u001b[1;33m)\u001b[0m  \u001b[1;31m# may raise StopIteration\u001b[0m\u001b[1;33m\u001b[0m\u001b[0m\n\u001b[1;32m--> 264\u001b[1;33m             \u001b[0mbatch\u001b[0m \u001b[1;33m=\u001b[0m \u001b[0mself\u001b[0m\u001b[1;33m.\u001b[0m\u001b[0mcollate_fn\u001b[0m\u001b[1;33m(\u001b[0m\u001b[1;33m[\u001b[0m\u001b[0mself\u001b[0m\u001b[1;33m.\u001b[0m\u001b[0mdataset\u001b[0m\u001b[1;33m[\u001b[0m\u001b[0mi\u001b[0m\u001b[1;33m]\u001b[0m \u001b[1;32mfor\u001b[0m \u001b[0mi\u001b[0m \u001b[1;32min\u001b[0m \u001b[0mindices\u001b[0m\u001b[1;33m]\u001b[0m\u001b[1;33m)\u001b[0m\u001b[1;33m\u001b[0m\u001b[0m\n\u001b[0m\u001b[0;32m    265\u001b[0m             \u001b[1;32mif\u001b[0m \u001b[0mself\u001b[0m\u001b[1;33m.\u001b[0m\u001b[0mpin_memory\u001b[0m\u001b[1;33m:\u001b[0m\u001b[1;33m\u001b[0m\u001b[0m\n\u001b[0;32m    266\u001b[0m                 \u001b[0mbatch\u001b[0m \u001b[1;33m=\u001b[0m \u001b[0mpin_memory_batch\u001b[0m\u001b[1;33m(\u001b[0m\u001b[0mbatch\u001b[0m\u001b[1;33m)\u001b[0m\u001b[1;33m\u001b[0m\u001b[0m\n",
      "\u001b[1;32mD:\\Work\\Anaconda3\\lib\\site-packages\\torch\\utils\\data\\dataloader.py\u001b[0m in \u001b[0;36m<listcomp>\u001b[1;34m(.0)\u001b[0m\n\u001b[0;32m    262\u001b[0m         \u001b[1;32mif\u001b[0m \u001b[0mself\u001b[0m\u001b[1;33m.\u001b[0m\u001b[0mnum_workers\u001b[0m \u001b[1;33m==\u001b[0m \u001b[1;36m0\u001b[0m\u001b[1;33m:\u001b[0m  \u001b[1;31m# same-process loading\u001b[0m\u001b[1;33m\u001b[0m\u001b[0m\n\u001b[0;32m    263\u001b[0m             \u001b[0mindices\u001b[0m \u001b[1;33m=\u001b[0m \u001b[0mnext\u001b[0m\u001b[1;33m(\u001b[0m\u001b[0mself\u001b[0m\u001b[1;33m.\u001b[0m\u001b[0msample_iter\u001b[0m\u001b[1;33m)\u001b[0m  \u001b[1;31m# may raise StopIteration\u001b[0m\u001b[1;33m\u001b[0m\u001b[0m\n\u001b[1;32m--> 264\u001b[1;33m             \u001b[0mbatch\u001b[0m \u001b[1;33m=\u001b[0m \u001b[0mself\u001b[0m\u001b[1;33m.\u001b[0m\u001b[0mcollate_fn\u001b[0m\u001b[1;33m(\u001b[0m\u001b[1;33m[\u001b[0m\u001b[0mself\u001b[0m\u001b[1;33m.\u001b[0m\u001b[0mdataset\u001b[0m\u001b[1;33m[\u001b[0m\u001b[0mi\u001b[0m\u001b[1;33m]\u001b[0m \u001b[1;32mfor\u001b[0m \u001b[0mi\u001b[0m \u001b[1;32min\u001b[0m \u001b[0mindices\u001b[0m\u001b[1;33m]\u001b[0m\u001b[1;33m)\u001b[0m\u001b[1;33m\u001b[0m\u001b[0m\n\u001b[0m\u001b[0;32m    265\u001b[0m             \u001b[1;32mif\u001b[0m \u001b[0mself\u001b[0m\u001b[1;33m.\u001b[0m\u001b[0mpin_memory\u001b[0m\u001b[1;33m:\u001b[0m\u001b[1;33m\u001b[0m\u001b[0m\n\u001b[0;32m    266\u001b[0m                 \u001b[0mbatch\u001b[0m \u001b[1;33m=\u001b[0m \u001b[0mpin_memory_batch\u001b[0m\u001b[1;33m(\u001b[0m\u001b[0mbatch\u001b[0m\u001b[1;33m)\u001b[0m\u001b[1;33m\u001b[0m\u001b[0m\n",
      "\u001b[1;32mD:\\Work\\Anaconda3\\lib\\site-packages\\torchvision\\datasets\\mnist.py\u001b[0m in \u001b[0;36m__getitem__\u001b[1;34m(self, index)\u001b[0m\n\u001b[0;32m     71\u001b[0m         \u001b[1;31m# doing this so that it is consistent with all other datasets\u001b[0m\u001b[1;33m\u001b[0m\u001b[1;33m\u001b[0m\u001b[0m\n\u001b[0;32m     72\u001b[0m         \u001b[1;31m# to return a PIL Image\u001b[0m\u001b[1;33m\u001b[0m\u001b[1;33m\u001b[0m\u001b[0m\n\u001b[1;32m---> 73\u001b[1;33m         \u001b[0mimg\u001b[0m \u001b[1;33m=\u001b[0m \u001b[0mImage\u001b[0m\u001b[1;33m.\u001b[0m\u001b[0mfromarray\u001b[0m\u001b[1;33m(\u001b[0m\u001b[0mimg\u001b[0m\u001b[1;33m.\u001b[0m\u001b[0mnumpy\u001b[0m\u001b[1;33m(\u001b[0m\u001b[1;33m)\u001b[0m\u001b[1;33m,\u001b[0m \u001b[0mmode\u001b[0m\u001b[1;33m=\u001b[0m\u001b[1;34m'L'\u001b[0m\u001b[1;33m)\u001b[0m\u001b[1;33m\u001b[0m\u001b[0m\n\u001b[0m\u001b[0;32m     74\u001b[0m \u001b[1;33m\u001b[0m\u001b[0m\n\u001b[0;32m     75\u001b[0m         \u001b[1;32mif\u001b[0m \u001b[0mself\u001b[0m\u001b[1;33m.\u001b[0m\u001b[0mtransform\u001b[0m \u001b[1;32mis\u001b[0m \u001b[1;32mnot\u001b[0m \u001b[1;32mNone\u001b[0m\u001b[1;33m:\u001b[0m\u001b[1;33m\u001b[0m\u001b[0m\n",
      "\u001b[1;32mD:\\Work\\Anaconda3\\lib\\site-packages\\PIL\\Image.py\u001b[0m in \u001b[0;36mfromarray\u001b[1;34m(obj, mode)\u001b[0m\n\u001b[0;32m   2436\u001b[0m             \u001b[0mobj\u001b[0m \u001b[1;33m=\u001b[0m \u001b[0mobj\u001b[0m\u001b[1;33m.\u001b[0m\u001b[0mtostring\u001b[0m\u001b[1;33m(\u001b[0m\u001b[1;33m)\u001b[0m\u001b[1;33m\u001b[0m\u001b[0m\n\u001b[0;32m   2437\u001b[0m \u001b[1;33m\u001b[0m\u001b[0m\n\u001b[1;32m-> 2438\u001b[1;33m     \u001b[1;32mreturn\u001b[0m \u001b[0mfrombuffer\u001b[0m\u001b[1;33m(\u001b[0m\u001b[0mmode\u001b[0m\u001b[1;33m,\u001b[0m \u001b[0msize\u001b[0m\u001b[1;33m,\u001b[0m \u001b[0mobj\u001b[0m\u001b[1;33m,\u001b[0m \u001b[1;34m\"raw\"\u001b[0m\u001b[1;33m,\u001b[0m \u001b[0mrawmode\u001b[0m\u001b[1;33m,\u001b[0m \u001b[1;36m0\u001b[0m\u001b[1;33m,\u001b[0m \u001b[1;36m1\u001b[0m\u001b[1;33m)\u001b[0m\u001b[1;33m\u001b[0m\u001b[0m\n\u001b[0m\u001b[0;32m   2439\u001b[0m \u001b[1;33m\u001b[0m\u001b[0m\n\u001b[0;32m   2440\u001b[0m \u001b[1;33m\u001b[0m\u001b[0m\n",
      "\u001b[1;32mD:\\Work\\Anaconda3\\lib\\site-packages\\PIL\\Image.py\u001b[0m in \u001b[0;36mfrombuffer\u001b[1;34m(mode, size, data, decoder_name, *args)\u001b[0m\n\u001b[0;32m   2382\u001b[0m             \u001b[0margs\u001b[0m \u001b[1;33m=\u001b[0m \u001b[0mmode\u001b[0m\u001b[1;33m,\u001b[0m \u001b[1;36m0\u001b[0m\u001b[1;33m,\u001b[0m \u001b[1;33m-\u001b[0m\u001b[1;36m1\u001b[0m  \u001b[1;31m# may change to (mode, 0, 1) post-1.1.6\u001b[0m\u001b[1;33m\u001b[0m\u001b[0m\n\u001b[0;32m   2383\u001b[0m         \u001b[1;32mif\u001b[0m \u001b[0margs\u001b[0m\u001b[1;33m[\u001b[0m\u001b[1;36m0\u001b[0m\u001b[1;33m]\u001b[0m \u001b[1;32min\u001b[0m \u001b[0m_MAPMODES\u001b[0m\u001b[1;33m:\u001b[0m\u001b[1;33m\u001b[0m\u001b[0m\n\u001b[1;32m-> 2384\u001b[1;33m             \u001b[0mim\u001b[0m \u001b[1;33m=\u001b[0m \u001b[0mnew\u001b[0m\u001b[1;33m(\u001b[0m\u001b[0mmode\u001b[0m\u001b[1;33m,\u001b[0m \u001b[1;33m(\u001b[0m\u001b[1;36m1\u001b[0m\u001b[1;33m,\u001b[0m \u001b[1;36m1\u001b[0m\u001b[1;33m)\u001b[0m\u001b[1;33m)\u001b[0m\u001b[1;33m\u001b[0m\u001b[0m\n\u001b[0m\u001b[0;32m   2385\u001b[0m             im = im._new(\n\u001b[0;32m   2386\u001b[0m                 \u001b[0mcore\u001b[0m\u001b[1;33m.\u001b[0m\u001b[0mmap_buffer\u001b[0m\u001b[1;33m(\u001b[0m\u001b[0mdata\u001b[0m\u001b[1;33m,\u001b[0m \u001b[0msize\u001b[0m\u001b[1;33m,\u001b[0m \u001b[0mdecoder_name\u001b[0m\u001b[1;33m,\u001b[0m \u001b[1;32mNone\u001b[0m\u001b[1;33m,\u001b[0m \u001b[1;36m0\u001b[0m\u001b[1;33m,\u001b[0m \u001b[0margs\u001b[0m\u001b[1;33m)\u001b[0m\u001b[1;33m\u001b[0m\u001b[0m\n",
      "\u001b[1;32mD:\\Work\\Anaconda3\\lib\\site-packages\\PIL\\Image.py\u001b[0m in \u001b[0;36mnew\u001b[1;34m(mode, size, color)\u001b[0m\n\u001b[0;32m   2285\u001b[0m         \u001b[0mcolor\u001b[0m \u001b[1;33m=\u001b[0m \u001b[0mImageColor\u001b[0m\u001b[1;33m.\u001b[0m\u001b[0mgetcolor\u001b[0m\u001b[1;33m(\u001b[0m\u001b[0mcolor\u001b[0m\u001b[1;33m,\u001b[0m \u001b[0mmode\u001b[0m\u001b[1;33m)\u001b[0m\u001b[1;33m\u001b[0m\u001b[0m\n\u001b[0;32m   2286\u001b[0m \u001b[1;33m\u001b[0m\u001b[0m\n\u001b[1;32m-> 2287\u001b[1;33m     \u001b[1;32mreturn\u001b[0m \u001b[0mImage\u001b[0m\u001b[1;33m(\u001b[0m\u001b[1;33m)\u001b[0m\u001b[1;33m.\u001b[0m\u001b[0m_new\u001b[0m\u001b[1;33m(\u001b[0m\u001b[0mcore\u001b[0m\u001b[1;33m.\u001b[0m\u001b[0mfill\u001b[0m\u001b[1;33m(\u001b[0m\u001b[0mmode\u001b[0m\u001b[1;33m,\u001b[0m \u001b[0msize\u001b[0m\u001b[1;33m,\u001b[0m \u001b[0mcolor\u001b[0m\u001b[1;33m)\u001b[0m\u001b[1;33m)\u001b[0m\u001b[1;33m\u001b[0m\u001b[0m\n\u001b[0m\u001b[0;32m   2288\u001b[0m \u001b[1;33m\u001b[0m\u001b[0m\n\u001b[0;32m   2289\u001b[0m \u001b[1;33m\u001b[0m\u001b[0m\n",
      "\u001b[1;31mKeyboardInterrupt\u001b[0m: "
     ]
    }
   ],
   "source": [
    "# Not fixed params\n",
    "lr_list = [0.00001, 0.0001, 0.001, 0.01, 0.1]\n",
    "\n",
    "# Number of epochs we want to run\n",
    "nb_epochs = 100\n",
    "mini_batch = 100\n",
    "kfold = 3\n",
    "\n",
    "train_dataset, train_loader, test_dataset, test_loader = get_datasets(mini_batch_size = mini_batch)\n",
    "results = {'lr': [], 'train_loss':[], 'train_acc':[], 'val_loss':[], 'val_acc':[]}\n",
    "\n",
    "for lr in lr_list:\n",
    "  results['lr'] = lr\n",
    "  print(\"lr \",lr)\n",
    "  title = \"lr \"+str(lr)\n",
    "\n",
    "  train_loss_kfold, val_loss_kfold, train_acc_kfold, val_acc_kfold = train_model_kfold_sgd(model, train_dataset, kfold=kfold, shuffle=True, nb_epochs = nb_epochs, mini_batch_size = mini_batch, lr = lr)\n",
    "  # Plot\n",
    "\n",
    "  plot_acc_loss(train_loss_kfold, val_loss_kfold, train_acc_kfold, val_acc_kfold , title)\n",
    "  train_loss_kfold = np.mean(train_loss_kfold, axis = 0)\n",
    "  val_loss_kfold = np.mean(val_loss_kfold, axis = 0)\n",
    "  train_acc_kfold = np.mean(train_acc_kfold, axis = 0)\n",
    "  val_acc_kfold = np.mean(val_acc_kfold, axis = 0)\n",
    "  train_acc_kfold = np.mean(train_acc_kfold, axis = 0)\n",
    "  print(\"Train accuracy =  \",train_acc_kfold)\n",
    "\n",
    "  te_acc = np.mean(te_acc, axis = 0)\n",
    "  print(\"Val accuracy =  \",val_acc_kfold)\n",
    "\n",
    "  results['train_loss'].append(train_loss_kfold)\n",
    "  results['train_acc'].append(train_acc_kfold)\n",
    "  results['val_loss'].append(val_loss_kfold)\n",
    "  results['val_acc'].append(val_acc_kfold)"
   ]
  },
  {
   "cell_type": "markdown",
   "metadata": {
    "colab_type": "text",
    "id": "n_XeMTPCLrFr"
   },
   "source": [
    "Here we plot matrix with average training and validation accuracy, and decide which number we use"
   ]
  },
  {
   "cell_type": "code",
   "execution_count": null,
   "metadata": {
    "colab": {
     "autoexec": {
      "startup": false,
      "wait_interval": 0
     }
    },
    "colab_type": "code",
    "id": "ch8Owot86FtY"
   },
   "outputs": [],
   "source": [
    "num_of_lr = len(lr_list)\n",
    "sns.heatmap( np.reshape(np.array(results[\"train_acc\"]),(1,num_of_lr)), annot=True, xticklabels=np.reshape(np.array(nb_hidden_list),(-1,1)), yticklabels=np.reshape(np.array(conv2_list),(-1,1))).set_title('Train accuracy mean')\n",
    "plt.figure()\n",
    "sns.heatmap( np.reshape(np.array(results[\"val_acc\"]),(1,num_of_lr)), annot=True, xticklabels=np.reshape(np.array(nb_hidden_list),(-1,1)), yticklabels=np.reshape(np.array(conv2_list),(-1,1))).set_title('Validation accuracy mean')"
   ]
  },
  {
   "cell_type": "markdown",
   "metadata": {
    "colab_type": "text",
    "id": "5GXdlGaSRriD"
   },
   "source": [
    "Train and test on whole datasets with some picked value"
   ]
  },
  {
   "cell_type": "code",
   "execution_count": null,
   "metadata": {
    "colab": {
     "autoexec": {
      "startup": false,
      "wait_interval": 0
     }
    },
    "colab_type": "code",
    "id": "WB4oPc40R1oG"
   },
   "outputs": [],
   "source": [
    "train_loss_kfold, test_loss_kfold, train_acc_kfold, test_acc_kfold = train_model_kfold_sgd(model, train_dataset, test_dataset, shuffle=True, nb_epochs = nb_epochs, mini_batch_size = mini_batch, lr = 1e-1)\n",
    "plot_acc_loss(train_loss_kfold, test_loss_kfold, train_acc_kfold, test_acc_kfold)"
   ]
  },
  {
   "cell_type": "markdown",
   "metadata": {
    "colab_type": "text",
    "id": "y7XCBJt_6dH2"
   },
   "source": [
    "Grid search for Adam, i.e. first find best lr, then betas"
   ]
  },
  {
   "cell_type": "code",
   "execution_count": null,
   "metadata": {
    "colab": {
     "autoexec": {
      "startup": false,
      "wait_interval": 0
     }
    },
    "colab_type": "code",
    "id": "99SjCTS-LZ2f"
   },
   "outputs": [],
   "source": [
    "# Not fixed params\n",
    "lr_list = [0.00001, 0.0001, 0.001, 0.01, 0.1]\n",
    "\n",
    "# Number of epochs we want to run\n",
    "nb_epochs = 100\n",
    "mini_batch = 100\n",
    "kfold = 3\n",
    "\n",
    "train_dataset, train_loader, test_dataset, test_loader = get_datasets(mini_batch_size = mini_batch)\n",
    "results = {'lr': [], 'train_loss':[], 'train_acc':[], 'val_loss':[], 'val_acc':[]}\n",
    "\n",
    "for lr in lr_list:\n",
    "  results['lr'] = lr\n",
    "  print(\"lr \",lr)\n",
    "  title = \"lr \"+str(lr)\n",
    "\n",
    "  train_loss_kfold, val_loss_kfold, train_acc_kfold, val_acc_kfold = train_model_kfold_adam(model, train_dataset, kfold=kfold, shuffle=True, nb_epochs = nb_epochs, mini_batch_size = mini_batch, lr = lr)\n",
    "  # Plot\n",
    "\n",
    "  plot_acc_loss(train_loss_kfold, val_loss_kfold, train_acc_kfold, val_acc_kfold , title)\n",
    "  train_loss_kfold = np.mean(train_loss_kfold, axis = 0)\n",
    "  val_loss_kfold = np.mean(val_loss_kfold, axis = 0)\n",
    "  train_acc_kfold = np.mean(train_acc_kfold, axis = 0)\n",
    "  val_acc_kfold = np.mean(val_acc_kfold, axis = 0)\n",
    "  train_acc_kfold = np.mean(train_acc_kfold, axis = 0)\n",
    "  print(\"Train accuracy =  \",train_acc_kfold)\n",
    "\n",
    "  te_acc = np.mean(te_acc, axis = 0)\n",
    "  print(\"Val accuracy =  \",val_acc_kfold)\n",
    "\n",
    "  results['train_loss'].append(train_loss_kfold)\n",
    "  results['train_acc'].append(train_acc_kfold)\n",
    "  results['val_loss'].append(val_loss_kfold)\n",
    "  results['val_acc'].append(val_acc_kfold)"
   ]
  },
  {
   "cell_type": "markdown",
   "metadata": {
    "colab_type": "text",
    "id": "GPPk9m2hRmJM"
   },
   "source": [
    "Here we plot matrix with average training and validation accuracy, and decide which number we use"
   ]
  },
  {
   "cell_type": "code",
   "execution_count": null,
   "metadata": {
    "colab": {
     "autoexec": {
      "startup": false,
      "wait_interval": 0
     }
    },
    "colab_type": "code",
    "id": "efnnsb1xLoqv"
   },
   "outputs": [],
   "source": [
    "num_of_lr = len(lr_list)\n",
    "sns.heatmap( np.reshape(np.array(results[\"train_acc\"]),(1,num_of_lr)), annot=True, xticklabels=np.reshape(np.array(nb_hidden_list),(-1,1)), yticklabels=np.reshape(np.array(conv2_list),(-1,1))).set_title('Train accuracy mean')\n",
    "plt.figure()\n",
    "sns.heatmap( np.reshape(np.array(results[\"val_acc\"]),(1,num_of_lr)), annot=True, xticklabels=np.reshape(np.array(nb_hidden_list),(-1,1)), yticklabels=np.reshape(np.array(conv2_list),(-1,1))).set_title('Validation accuracy mean')"
   ]
  },
  {
   "cell_type": "markdown",
   "metadata": {
    "colab_type": "text",
    "id": "ld7hrBerO1Tj"
   },
   "source": [
    "Find betas"
   ]
  },
  {
   "cell_type": "code",
   "execution_count": null,
   "metadata": {
    "colab": {
     "autoexec": {
      "startup": false,
      "wait_interval": 0
     }
    },
    "colab_type": "code",
    "id": "LNPd4TaF6L9U"
   },
   "outputs": [],
   "source": [
    "# Load training dataset\n",
    "train_dataset, train_loader, test_dataset, test_loader = get_datasets(mini_batch_size = mini_batch)\n",
    "results = {'beta1': [], 'beta2':[], 'train_loss':[], 'train_acc':[], 'val_loss':[], 'val_acc':[]}\n",
    "\n",
    "# Define minibatch size\n",
    "nb_epochs = 150\n",
    "mini_batch = 100\n",
    "kfold = 3\n",
    "\n",
    "# this should be best lr\n",
    "lr = 1e-3\n",
    "beta1_list = [0.89, 0.91, 0.9]\n",
    "beta2_list = [0.99, 0.994, 0.998, 0.999]\n",
    "for beta1 in beta1_list:\n",
    "  results['beta1'] = beta1\n",
    "  for beta2 in beta2_list:\n",
    "    results['beta2'] = beta2\n",
    "    print(\"beta1 = \",beta1, \" beta2 = \", beta2)\n",
    "    title = \"beta1 = \"+str(beta1)+\" beta2 = \"+str(beta2)\n",
    "\n",
    "    train_loss_kfold, val_loss_kfold, train_acc_kfold, val_acc_kfold = train_model_kfold_adam(model, train_dataset, kfold=kfold, shuffle=True, nb_epochs = nb_epochs, mini_batch_size = mini_batch, lr = lr, beta1= beta1, beta2 = beta2)\n",
    "    # Plot\n",
    "\n",
    "    plot_acc_loss(train_loss_kfold, val_loss_kfold, train_acc_kfold, val_acc_kfold , title)\n",
    "    train_loss_kfold = np.mean(train_loss_kfold, axis = 0)\n",
    "    val_loss_kfold = np.mean(val_loss_kfold, axis = 0)\n",
    "    train_acc_kfold = np.mean(train_acc_kfold, axis = 0)\n",
    "    val_acc_kfold = np.mean(val_acc_kfold, axis = 0)\n",
    "    train_acc_kfold = np.mean(train_acc_kfold, axis = 0)\n",
    "    print(\"Train accuracy =  \",train_acc_kfold)\n",
    "\n",
    "    te_acc = np.mean(te_acc, axis = 0)\n",
    "    print(\"Val accuracy =  \",val_acc_kfold)\n",
    "\n",
    "    results['train_loss'].append(train_loss_kfold)\n",
    "    results['train_acc'].append(train_acc_kfold)\n",
    "    results['val_loss'].append(val_loss_kfold)\n",
    "    results['val_acc'].append(val_acc_kfold)"
   ]
  },
  {
   "cell_type": "markdown",
   "metadata": {
    "colab_type": "text",
    "id": "a7M71WxcRnll"
   },
   "source": [
    "Pick betas"
   ]
  },
  {
   "cell_type": "code",
   "execution_count": null,
   "metadata": {
    "colab": {
     "autoexec": {
      "startup": false,
      "wait_interval": 0
     }
    },
    "colab_type": "code",
    "id": "bGPyh2KfM4Yd"
   },
   "outputs": [],
   "source": [
    "num_b1 = len(beta1_list)\n",
    "num_b2 = len(beta2_list)\n",
    "sns.heatmap( np.reshape(np.array(results[\"train_acc\"]),(num_b1,num_b2)), annot=True, xticklabels=np.reshape(np.array(conv1_list),(-1,1)), yticklabels=np.reshape(np.array(conv2_list),(-1,1))).set_title('Training accuracy mean')\n",
    "plt.figure()\n",
    "sns.heatmap( np.reshape(np.array(results[\"val_acc\"]),(num_b1,num_b2)), annot=True, xticklabels=np.reshape(np.array(conv1_list),(-1,1)), yticklabels=np.reshape(np.array(conv2_list),(-1,1))).set_title('Validation accuracy mean')"
   ]
  },
  {
   "cell_type": "code",
   "execution_count": null,
   "metadata": {},
   "outputs": [],
   "source": []
  }
 ],
 "metadata": {
  "accelerator": "GPU",
  "colab": {
   "default_view": {},
   "name": "Copy of OptiML_MNIST_v3.ipynb",
   "provenance": [
    {
     "file_id": "1HX-9Sgyc3dW5ZkFBg1eCQXRRNpy_GJA1",
     "timestamp": 1527020218861
    }
   ],
   "version": "0.3.2",
   "views": {}
  },
  "kernelspec": {
   "display_name": "Python 3",
   "language": "python",
   "name": "python3"
  },
  "language_info": {
   "codemirror_mode": {
    "name": "ipython",
    "version": 3
   },
   "file_extension": ".py",
   "mimetype": "text/x-python",
   "name": "python",
   "nbconvert_exporter": "python",
   "pygments_lexer": "ipython3",
   "version": "3.6.5"
  }
 },
 "nbformat": 4,
 "nbformat_minor": 1
}
