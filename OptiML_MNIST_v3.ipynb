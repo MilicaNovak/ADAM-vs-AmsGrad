{
  "nbformat": 4,
  "nbformat_minor": 0,
  "metadata": {
    "colab": {
      "name": "Copy of OptiML_MNIST_v3.ipynb",
      "version": "0.3.2",
      "views": {},
      "default_view": {},
      "provenance": [
        {
          "file_id": "1HX-9Sgyc3dW5ZkFBg1eCQXRRNpy_GJA1",
          "timestamp": 1527020218861
        }
      ]
    },
    "kernelspec": {
      "name": "python3",
      "display_name": "Python 3"
    },
    "accelerator": "GPU"
  },
  "cells": [
    {
      "metadata": {
        "id": "nb49jUQXHpzg",
        "colab_type": "text"
      },
      "cell_type": "markdown",
      "source": [
        "### First cell can be skipped if you are not working with: https://colab.research.google.com/"
      ]
    },
    {
      "metadata": {
        "id": "StSLCGlXG2vw",
        "colab_type": "code",
        "colab": {
          "autoexec": {
            "startup": false,
            "wait_interval": 0
          },
          "base_uri": "https://localhost:8080/",
          "height": 195
        },
        "outputId": "6d802cca-124d-4a48-ee9b-386f5f103495",
        "executionInfo": {
          "status": "ok",
          "timestamp": 1527026725179,
          "user_tz": -120,
          "elapsed": 4724,
          "user": {
            "displayName": "Milica Novakovic",
            "photoUrl": "//lh6.googleusercontent.com/-PdM9ODluhz0/AAAAAAAAAAI/AAAAAAAAABc/XV0m45-1Nmw/s50-c-k-no/photo.jpg",
            "userId": "110546638424582068159"
          }
        }
      },
      "cell_type": "code",
      "source": [
        "!pip3 install http://download.pytorch.org/whl/cu90/torch-0.3.1-cp36-cp36m-linux_x86_64.whl \n",
        "!pip3 install torchvision"
      ],
      "execution_count": 1,
      "outputs": [
        {
          "output_type": "stream",
          "text": [
            "Requirement already satisfied: torch==0.3.1 from http://download.pytorch.org/whl/cu90/torch-0.3.1-cp36-cp36m-linux_x86_64.whl in /usr/local/lib/python3.6/dist-packages (0.3.1)\r\n",
            "Requirement already satisfied: pyyaml in /usr/local/lib/python3.6/dist-packages (from torch==0.3.1) (3.12)\r\n",
            "Requirement already satisfied: numpy in /usr/local/lib/python3.6/dist-packages (from torch==0.3.1) (1.14.3)\n",
            "Requirement already satisfied: torchvision in /usr/local/lib/python3.6/dist-packages (0.2.1)\n",
            "Requirement already satisfied: pillow>=4.1.1 in /usr/local/lib/python3.6/dist-packages (from torchvision) (5.1.0)\n",
            "Requirement already satisfied: numpy in /usr/local/lib/python3.6/dist-packages (from torchvision) (1.14.3)\n",
            "Requirement already satisfied: six in /usr/local/lib/python3.6/dist-packages (from torchvision) (1.11.0)\n",
            "Requirement already satisfied: torch in /usr/local/lib/python3.6/dist-packages (from torchvision) (0.3.1)\n",
            "Requirement already satisfied: pyyaml in /usr/local/lib/python3.6/dist-packages (from torch->torchvision) (3.12)\n"
          ],
          "name": "stdout"
        }
      ]
    },
    {
      "metadata": {
        "id": "KPWyJyGAHNCI",
        "colab_type": "code",
        "colab": {
          "autoexec": {
            "startup": false,
            "wait_interval": 0
          }
        }
      },
      "cell_type": "code",
      "source": [
        "import torch\n",
        "import math\n",
        "import os\n",
        "\n",
        "from torch import optim\n",
        "from torch import Tensor\n",
        "from torch.autograd import Variable\n",
        "from torch import nn\n",
        "import torchvision\n",
        "from torchvision import datasets\n",
        "import torchvision.transforms as transforms\n",
        "import seaborn as sns\n",
        "from sklearn.model_selection import KFold\n",
        "from torch.utils.data.sampler import SubsetRandomSampler\n",
        "import matplotlib.pyplot as plt\n",
        "import numpy as np"
      ],
      "execution_count": 0,
      "outputs": []
    },
    {
      "metadata": {
        "id": "DuwpUr0aOmYG",
        "colab_type": "code",
        "colab": {
          "autoexec": {
            "startup": false,
            "wait_interval": 0
          }
        }
      },
      "cell_type": "code",
      "source": [
        "def create_mnist_model():\n",
        "  return nn.Sequential(\n",
        "      nn.Linear(784, 100),\n",
        "      nn.ReLU(),\n",
        "      nn.Linear(100, 10)\n",
        "  )"
      ],
      "execution_count": 0,
      "outputs": []
    },
    {
      "metadata": {
        "id": "JRcD-KMKs9kq",
        "colab_type": "code",
        "colab": {
          "autoexec": {
            "startup": false,
            "wait_interval": 0
          }
        }
      },
      "cell_type": "code",
      "source": [
        "def get_datasets(mini_batch_size=100):\n",
        "  transform = transforms.ToTensor()\n",
        "  root = './data'\n",
        "  if not os.path.exists(root):\n",
        "    os.mkdir(root)\n",
        "  # Load and transform data\n",
        "  train_dataset = torchvision.datasets.MNIST(root, train=True, download=True, transform=transform)\n",
        "  train_loader = torch.utils.data.DataLoader(train_dataset, batch_size=mini_batch_size, shuffle=True, num_workers=2)\n",
        "\n",
        "  test_dataset = torchvision.datasets.MNIST(root, train=False, download=True, transform=transform)\n",
        "  test_loader = torch.utils.data.DataLoader(test_dataset, batch_size=mini_batch_size, shuffle=False, num_workers=2)\n",
        "  return  train_dataset, train_loader, test_dataset, test_loader"
      ],
      "execution_count": 0,
      "outputs": []
    },
    {
      "metadata": {
        "id": "bPMCm1BSfeOa",
        "colab_type": "text"
      },
      "cell_type": "markdown",
      "source": [
        "Function for training and validation/testing"
      ]
    },
    {
      "metadata": {
        "id": "0FsXcz8NtYZy",
        "colab_type": "code",
        "colab": {
          "autoexec": {
            "startup": false,
            "wait_interval": 0
          }
        }
      },
      "cell_type": "code",
      "source": [
        "def train_model(train_loader, model, criterion, optimizer):\n",
        "    # Set model for training\n",
        "    model.train()\n",
        "    \n",
        "    # Initialize counters to 0\n",
        "    nb_correct = 0\n",
        "    nb_elem = 0\n",
        "    loss_epoch = 0\n",
        "    \n",
        "    # Iterate over batches\n",
        "#     print(\"before first loop\")\n",
        "    for i, data in enumerate(train_loader):\n",
        "        # Create Variable\n",
        "#         print(\"variable\")\n",
        "        train_data, train_labels = data\n",
        "        train_data = train_data.view(train_data.size(0),-1).float()\n",
        "        \n",
        "        mean, std = train_data.mean(), train_data.std()\n",
        "        train_data.sub_(mean).div_(std)\n",
        "\n",
        "        inputs = Variable(train_data)\n",
        "        targets = Variable(train_labels)\n",
        "        if torch.cuda.is_available():\n",
        "          inputs = inputs.cuda()\n",
        "          targets = targets.cuda()\n",
        "\n",
        "        # Clear gradients\n",
        "        model.zero_grad()\n",
        "\n",
        "        # Forward pass\n",
        "#         print(\"type(inputs)\",type(inputs))\n",
        "#         print(\"inputs.size()\",inputs.size())\n",
        "        \n",
        "        outputs = model(inputs)\n",
        "\n",
        "        # Predicted labels (the one with highest probability)\n",
        "        pred_label = outputs.data.max(1)[1]\n",
        "\n",
        "         # Compute and store the loss\n",
        "        loss = criterion(outputs, targets)\n",
        "        loss_epoch += loss.data[0]\n",
        "        \n",
        "        # Update nb. correct and nb of elem\n",
        "        nb_correct += (pred_label == targets.data).sum()\n",
        "        nb_elem += len(pred_label)\n",
        "\n",
        "        # Backward pass\n",
        "        loss.backward()\n",
        "        optimizer.step()\n",
        "    \n",
        "    loss_epoch /=nb_elem\n",
        "    acc_epoch = nb_correct/nb_elem\n",
        "#     print(\"loss_epoch\")\n",
        "    return loss_epoch, acc_epoch, mean, std\n",
        "\n",
        "\n",
        "def validate_model(val_loader, model, criterion, mean, std):\n",
        "    # Switch to evaluate mode\n",
        "    model.eval()\n",
        "\n",
        "    # Initialize counters\n",
        "    nb_correct = 0\n",
        "    nb_elem = 0\n",
        "    loss_epoch = 0\n",
        "    \n",
        "    # Iterate over batches\n",
        "    for data in val_loader:\n",
        "        # Create Variable\n",
        "        val_data, val_labels = data\n",
        "        val_data = val_data.view(val_data.size(0),-1).float()\n",
        "        val_data.sub_(mean).div_(std)\n",
        "        inputs = Variable(val_data)\n",
        "        targets = Variable(val_labels)\n",
        "        if torch.cuda.is_available():\n",
        "          inputs = inputs.cuda()\n",
        "          targets = targets.cuda()\n",
        "        \n",
        "        # Obtain predictions\n",
        "        outputs = model(inputs)\n",
        "        \n",
        "        # Predicted label (highest probability)\n",
        "        pred_label = outputs.data.max(1)[1]\n",
        "\n",
        "        # Loss\n",
        "        loss = criterion(outputs, targets)\n",
        "        loss_epoch += loss.data[0]\n",
        "\n",
        "        # Update nb. correct and nb. total\n",
        "        nb_correct += (pred_label == targets.data).sum()\n",
        "        nb_elem += len(pred_label)\n",
        "        \n",
        "    loss_epoch/=nb_elem\n",
        "    acc_epoch = nb_correct/nb_elem\n",
        "    return loss_epoch, acc_epoch"
      ],
      "execution_count": 0,
      "outputs": []
    },
    {
      "metadata": {
        "id": "33CCXDGxQM1N",
        "colab_type": "text"
      },
      "cell_type": "markdown",
      "source": [
        "Main function for training and validation k-fold"
      ]
    },
    {
      "metadata": {
        "id": "ApRE0q8hP-Wj",
        "colab_type": "code",
        "colab": {
          "autoexec": {
            "startup": false,
            "wait_interval": 0
          }
        }
      },
      "cell_type": "code",
      "source": [
        "def train_model_kfold_sgd(model, train_dataset, kfold=5, shuffle=True, nb_epochs = 150, mini_batch_size = 100, lr = 1e-1):\n",
        "  criterion = nn.CrossEntropyLoss()\n",
        "  optimizer = optim.SGD(model.parameters(), lr)\n",
        "  \n",
        "  from sklearn.model_selection import KFold\n",
        "  from torch.utils.data.sampler import SubsetRandomSampler\n",
        "\n",
        "  kf = KFold(n_splits = kfold, shuffle=shuffle)\n",
        "\n",
        "  # Define vectors to store results for each fold\n",
        "  train_loss_kfold = []\n",
        "  val_loss_kfold = []\n",
        "  train_acc_kfold = []\n",
        "  val_acc_kfold = []\n",
        "  \n",
        "  for train_index, val_index in kf.split(train_dataset.train_data):\n",
        "    print(\"New split of data\")\n",
        "    train_sampler = SubsetRandomSampler(train_index)\n",
        "    val_sampler = SubsetRandomSampler(val_index)\n",
        "\n",
        "    train_loader = torch.utils.data.DataLoader(train_dataset, batch_size=mini_batch_size, sampler=train_sampler, drop_last=False)\n",
        "#     print(len(train_loader))\n",
        "    \n",
        "    val_loader = torch.utils.data.DataLoader(train_dataset, batch_size=mini_batch_size, sampler=val_sampler, drop_last=False)\n",
        "#     print(len(val_loader))\n",
        "    \n",
        "    model = create_mnist_model()\n",
        "    if torch.cuda.is_available():\n",
        "      model = model.cuda()\n",
        "      #train_dataset.input, val_dataset.input = train_input.cuda(), train_target.cuda(),test_input.cuda(), test_target.cuda()\n",
        "\n",
        "    # Store loss and accuracy per each epoch\n",
        "    train_e_loss = []\n",
        "    val_e_loss = []\n",
        "    train_e_acc = []\n",
        "    val_e_acc = []\n",
        "    \n",
        "    if torch.cuda.is_available():\n",
        "      criterion = nn.CrossEntropyLoss().cuda()\n",
        "    #optimizer = torch.optim.Adam(model.parameters(), lr=lr, betas=(beta1, beta2))\n",
        "    optimizer = optim.SGD(model.parameters(), lr)\n",
        "    \n",
        "    for epoch in range(0, nb_epochs):\n",
        "      if (epoch%10==0):\n",
        "        print(epoch)\n",
        "      # for this epoch calculate train loss, accuracy\n",
        "      train_loss, train_acc, mean, std = train_model(train_loader, model, criterion, optimizer)\n",
        "      # Store them in list to be able to plot\n",
        "      train_e_loss.append(train_loss)\n",
        "      train_e_acc.append(train_acc)\n",
        "\n",
        "      # Evaluate for epoch val loss and accuracy\n",
        "      val_loss, val_acc = validate_model(val_loader, model, criterion, mean, std)\n",
        "      # Store them in the list to be able to plot\n",
        "      val_e_loss.append(val_loss)\n",
        "      val_e_acc.append(val_acc)\n",
        "    \n",
        "    # for k-fold sets, store loss and accuracy through epochs \n",
        "    train_loss_kfold.append(train_e_loss)\n",
        "    val_loss_kfold.append(val_e_loss)\n",
        "    train_acc_kfold.append(train_e_acc)\n",
        "    val_acc_kfold.append(val_e_acc)\n",
        "    \n",
        "  return train_loss_kfold, val_loss_kfold, train_acc_kfold, val_acc_kfold"
      ],
      "execution_count": 0,
      "outputs": []
    },
    {
      "metadata": {
        "id": "dNygZJKzQVKZ",
        "colab_type": "code",
        "colab": {
          "autoexec": {
            "startup": false,
            "wait_interval": 0
          }
        }
      },
      "cell_type": "code",
      "source": [
        "def train_model_kfold_adam(model, train_dataset, kfold=5, shuffle=True, nb_epochs = 150, mini_batch_size = 100, lr = 1e-1, beta1=0.9, beta2=0.999):\n",
        "  criterion = nn.CrossEntropyLoss()\n",
        "  optimizer = optim.SGD(model.parameters(), lr)\n",
        "  \n",
        "  from sklearn.model_selection import KFold\n",
        "  from torch.utils.data.sampler import SubsetRandomSampler\n",
        "\n",
        "  kf = KFold(n_splits = kfold, shuffle=shuffle)\n",
        "\n",
        "  # Define vectors to store results for each fold\n",
        "  train_loss_kfold = []\n",
        "  val_loss_kfold = []\n",
        "  train_acc_kfold = []\n",
        "  val_acc_kfold = []\n",
        "  \n",
        "  for train_index, val_index in kf.split(train_dataset.train_data):\n",
        "    print(\"New split of data\")\n",
        "    train_sampler = SubsetRandomSampler(train_index)\n",
        "    val_sampler = SubsetRandomSampler(val_index)\n",
        "\n",
        "    train_loader = torch.utils.data.DataLoader(train_dataset, batch_size=mini_batch_size, sampler=train_sampler, drop_last=False)\n",
        "#     print(len(train_loader))\n",
        "    \n",
        "    val_loader = torch.utils.data.DataLoader(train_dataset, batch_size=mini_batch_size, sampler=val_sampler, drop_last=False)\n",
        "#     print(len(val_loader))\n",
        "    \n",
        "    model = create_mnist_model()\n",
        "    if torch.cuda.is_available():\n",
        "      model = model.cuda()\n",
        "      #train_dataset.input, val_dataset.input = train_input.cuda(), train_target.cuda(),test_input.cuda(), test_target.cuda()\n",
        "\n",
        "    # Store loss and accuracy per each epoch\n",
        "    train_e_loss = []\n",
        "    val_e_loss = []\n",
        "    train_e_acc = []\n",
        "    val_e_acc = []\n",
        "    \n",
        "    if torch.cuda.is_available():\n",
        "      criterion = nn.CrossEntropyLoss().cuda()\n",
        "    optimizer = torch.optim.Adam(model.parameters(), lr=lr, betas=(beta1, beta2))\n",
        "\n",
        "    for epoch in range(0, nb_epochs):\n",
        "      if (epoch%10==0):\n",
        "        print(epoch)\n",
        "      # for this epoch calculate train loss, accuracy\n",
        "      train_loss, train_acc, mean, std = train_model(train_loader, model, criterion, optimizer)\n",
        "      # Store them in list to be able to plot\n",
        "      train_e_loss.append(train_loss)\n",
        "      train_e_acc.append(train_acc)\n",
        "\n",
        "      # Evaluate for epoch val loss and accuracy\n",
        "      val_loss, val_acc = validate_model(val_loader, model, criterion, mean, std)\n",
        "      # Store them in the list to be able to plot\n",
        "      val_e_loss.append(val_loss)\n",
        "      val_e_acc.append(val_acc)\n",
        "    \n",
        "    # for k-fold sets, store loss and accuracy through epochs \n",
        "    train_loss_kfold.append(train_e_loss)\n",
        "    val_loss_kfold.append(val_e_loss)\n",
        "    train_acc_kfold.append(train_e_acc)\n",
        "    val_acc_kfold.append(val_e_acc)\n",
        "    \n",
        "  return train_loss_kfold, val_loss_kfold, train_acc_kfold, val_acc_kfold"
      ],
      "execution_count": 0,
      "outputs": []
    },
    {
      "metadata": {
        "id": "A6OqwjikGkbs",
        "colab_type": "text"
      },
      "cell_type": "markdown",
      "source": [
        "Function for plotting"
      ]
    },
    {
      "metadata": {
        "id": "UVwguvRBGjbG",
        "colab_type": "code",
        "colab": {
          "autoexec": {
            "startup": false,
            "wait_interval": 0
          }
        }
      },
      "cell_type": "code",
      "source": [
        "import seaborn as sns\n",
        "import matplotlib.pyplot as plt\n",
        "def plot_acc_loss(tr_loss, te_loss, tr_acc, te_acc, title=\"MNIST\"):   \n",
        "    plt.figure()\n",
        "    title=\"MNIST loss\"\n",
        "    sns.tsplot(np.array(tr_loss)).set_title(title)\n",
        "    sns.tsplot(np.array(te_loss), color = 'r')\n",
        "    plt.legend(['Train', 'Validation'])\n",
        "    plt.xlabel('Epoch')\n",
        "    plt.ylabel('Loss')\n",
        "\n",
        "    plt.figure()\n",
        "    title=\"MNIST accuracy\"\n",
        "    sns.tsplot(np.array(tr_acc)).set_title(title)\n",
        "    sns.tsplot(np.array(te_acc), color = 'r')\n",
        "    plt.legend(['Train', 'Validation'])\n",
        "    plt.xlabel('Epoch')\n",
        "    plt.ylabel('Accuracy')"
      ],
      "execution_count": 0,
      "outputs": []
    },
    {
      "metadata": {
        "id": "xiX6YF-9SH6n",
        "colab_type": "text"
      },
      "cell_type": "markdown",
      "source": [
        "Main function for training and testing on whole train and test, once the parameters are picked"
      ]
    },
    {
      "metadata": {
        "id": "iMJUM-s7SHY0",
        "colab_type": "code",
        "colab": {
          "autoexec": {
            "startup": false,
            "wait_interval": 0
          }
        }
      },
      "cell_type": "code",
      "source": [
        "def train_test_model_sgd(model, train_dataset, test_dataset, shuffle=True, nb_epochs = 150, mini_batch_size = 100, lr = 1e-1):\n",
        "  criterion = nn.CrossEntropyLoss()\n",
        "  optimizer = optim.SGD(model.parameters(), lr)\n",
        "  \n",
        "  from torch.utils.data.sampler import SubsetRandomSampler\n",
        "\n",
        "  train_loader = torch.utils.data.DataLoader(train_dataset, batch_size=mini_batch_size, sampler=train_sampler, drop_last=False)\n",
        "#     print(len(train_loader))\n",
        "\n",
        "  test_loader = torch.utils.data.DataLoader(test_dataset, batch_size=mini_batch_size, sampler=val_sampler, drop_last=False)\n",
        "#     print(len(val_loader))\n",
        "\n",
        "  model = create_mnist_model()\n",
        "  if torch.cuda.is_available():\n",
        "    model = model.cuda()\n",
        " \n",
        "  # Store loss and accuracy per each epoch\n",
        "  train_e_loss = []\n",
        "  test_e_loss = []\n",
        "  train_e_acc = []\n",
        "  test_e_acc = []\n",
        "\n",
        "  if torch.cuda.is_available():\n",
        "    criterion = nn.CrossEntropyLoss().cuda()\n",
        "  #optimizer = torch.optim.Adam(model.parameters(), lr=lr, betas=(beta1, beta2))\n",
        "  optimizer = optim.SGD(model.parameters(), lr)\n",
        "\n",
        "  for epoch in range(0, nb_epochs):\n",
        "    if (epoch%10==0):\n",
        "      print(epoch)\n",
        "    # here we normalize data on train set and take mean and std for test set\n",
        "    train_loss, train_acc, mean, std = train_model(train_loader, model, criterion, optimizer)\n",
        "    # Store them in list to be able to plot\n",
        "    train_e_loss.append(train_loss)\n",
        "    train_e_acc.append(train_acc)\n",
        "\n",
        "    # Evaluate for epoch val loss and accuracy\n",
        "    test_loss, test_acc = validate_model(test_loader, model, criterion, mean, std)\n",
        "    # Store them in the list to be able to plot\n",
        "    test_e_loss.append(test_loss)\n",
        "    test_e_acc.append(test_acc)\n",
        "    \n",
        "    # for k-fold sets, store loss and accuracy through epochs \n",
        "    train_loss_kfold.append(train_e_loss)\n",
        "    test_loss_kfold.append(test_e_loss)\n",
        "    train_acc_kfold.append(train_e_acc)\n",
        "    test_acc_kfold.append(test_e_acc)\n",
        "    \n",
        "  return train_loss_kfold, test_loss_kfold, train_acc_kfold, test_acc_kfold"
      ],
      "execution_count": 0,
      "outputs": []
    },
    {
      "metadata": {
        "id": "OVweAwaXTVdz",
        "colab_type": "code",
        "colab": {
          "autoexec": {
            "startup": false,
            "wait_interval": 0
          }
        }
      },
      "cell_type": "code",
      "source": [
        "def train_test_model_adam(model, train_dataset, test_dataset, shuffle=True, nb_epochs = 150, mini_batch_size = 100, lr = 1e-1, beta1= 0.9, beta2 = 0.999):\n",
        "  criterion = nn.CrossEntropyLoss()\n",
        "  optimizer = optim.SGD(model.parameters(), lr)\n",
        "  \n",
        "  from torch.utils.data.sampler import SubsetRandomSampler\n",
        "\n",
        "  train_loader = torch.utils.data.DataLoader(train_dataset, batch_size=mini_batch_size, sampler=train_sampler, drop_last=False)\n",
        "#     print(len(train_loader))\n",
        "\n",
        "  test_loader = torch.utils.data.DataLoader(test_dataset, batch_size=mini_batch_size, sampler=val_sampler, drop_last=False)\n",
        "#     print(len(val_loader))\n",
        "\n",
        "  model = create_mnist_model()\n",
        "  if torch.cuda.is_available():\n",
        "    model = model.cuda()\n",
        " \n",
        "  # Store loss and accuracy per each epoch\n",
        "  train_e_loss = []\n",
        "  test_e_loss = []\n",
        "  train_e_acc = []\n",
        "  test_e_acc = []\n",
        "\n",
        "  if torch.cuda.is_available():\n",
        "    criterion = nn.CrossEntropyLoss().cuda()\n",
        "  optimizer = torch.optim.Adam(model.parameters(), lr=lr, betas=(beta1, beta2))\n",
        "\n",
        "  for epoch in range(0, nb_epochs):\n",
        "    if (epoch%10==0):\n",
        "      print(epoch)\n",
        "    # here we normalize data on train set and take mean and std for test set\n",
        "    train_loss, train_acc, mean, std = train_model(train_loader, model, criterion, optimizer)\n",
        "    # Store them in list to be able to plot\n",
        "    train_e_loss.append(train_loss)\n",
        "    train_e_acc.append(train_acc)\n",
        "\n",
        "    # Evaluate for epoch val loss and accuracy\n",
        "    test_loss, test_acc = validate_model(test_loader, model, criterion, mean, std)\n",
        "    # Store them in the list to be able to plot\n",
        "    test_e_loss.append(test_loss)\n",
        "    test_e_acc.append(test_acc)\n",
        "    \n",
        "    # for k-fold sets, store loss and accuracy through epochs \n",
        "    train_loss_kfold.append(train_e_loss)\n",
        "    test_loss_kfold.append(test_e_loss)\n",
        "    train_acc_kfold.append(train_e_acc)\n",
        "    test_acc_kfold.append(test_e_acc)\n",
        "    \n",
        "  return train_loss_kfold, test_loss_kfold, train_acc_kfold, test_acc_kfold"
      ],
      "execution_count": 0,
      "outputs": []
    },
    {
      "metadata": {
        "id": "YzcD3pV7RBhL",
        "colab_type": "text"
      },
      "cell_type": "markdown",
      "source": [
        "Load data"
      ]
    },
    {
      "metadata": {
        "id": "joqT6RqEN9tC",
        "colab_type": "code",
        "colab": {
          "autoexec": {
            "startup": false,
            "wait_interval": 0
          }
        }
      },
      "cell_type": "code",
      "source": [
        "mini_batch = 100\n",
        "train_dataset, train_loader, test_dataset, test_loader = get_datasets(mini_batch_size = mini_batch)"
      ],
      "execution_count": 0,
      "outputs": []
    },
    {
      "metadata": {
        "id": "fUR1U4H0RHHO",
        "colab_type": "text"
      },
      "cell_type": "markdown",
      "source": [
        "Train the sgd"
      ]
    },
    {
      "metadata": {
        "id": "xlQBrmWVv46c",
        "colab_type": "code",
        "colab": {
          "autoexec": {
            "startup": false,
            "wait_interval": 0
          },
          "base_uri": "https://localhost:8080/",
          "height": 732
        },
        "outputId": "b826a999-bdcb-41b3-9142-744a6e23fd8e",
        "executionInfo": {
          "status": "error",
          "timestamp": 1527033510859,
          "user_tz": -120,
          "elapsed": 1246319,
          "user": {
            "displayName": "Milica Novakovic",
            "photoUrl": "//lh6.googleusercontent.com/-PdM9ODluhz0/AAAAAAAAAAI/AAAAAAAAABc/XV0m45-1Nmw/s50-c-k-no/photo.jpg",
            "userId": "110546638424582068159"
          }
        }
      },
      "cell_type": "code",
      "source": [
        "model = create_mnist_model()\n",
        "nb_epochs = 100\n",
        "lr = 1e-1\n",
        "mini_batch = 100\n",
        "\n",
        "train_loss_kfold, val_loss_kfold, train_acc_kfold, val_acc_kfold = train_model_kfold_sgd(model, train_dataset, kfold=2, shuffle=True, nb_epochs = nb_epochs, mini_batch_size = mini_batch, lr = 1e-1)\n",
        "plot_acc_loss(train_loss_kfold, val_loss_kfold, train_acc_kfold, val_acc_kfold)"
      ],
      "execution_count": 16,
      "outputs": [
        {
          "output_type": "stream",
          "text": [
            "New split of data\n",
            "0\n",
            "10\n",
            "20\n",
            "30\n",
            "40\n",
            "50\n",
            "60\n",
            "70\n",
            "80\n",
            "90\n",
            "New split of data\n",
            "0\n",
            "10\n",
            "20\n",
            "30\n",
            "40\n",
            "50\n",
            "60\n",
            "70\n",
            "80\n",
            "90\n"
          ],
          "name": "stdout"
        },
        {
          "output_type": "error",
          "ename": "NameError",
          "evalue": "ignored",
          "traceback": [
            "\u001b[0;31m---------------------------------------------------------------------------\u001b[0m",
            "\u001b[0;31mNameError\u001b[0m                                 Traceback (most recent call last)",
            "\u001b[0;32m<ipython-input-16-98ec0e332a14>\u001b[0m in \u001b[0;36m<module>\u001b[0;34m()\u001b[0m\n\u001b[1;32m      5\u001b[0m \u001b[0;34m\u001b[0m\u001b[0m\n\u001b[1;32m      6\u001b[0m \u001b[0mtrain_loss_kfold\u001b[0m\u001b[0;34m,\u001b[0m \u001b[0mval_loss_kfold\u001b[0m\u001b[0;34m,\u001b[0m \u001b[0mtrain_acc_kfold\u001b[0m\u001b[0;34m,\u001b[0m \u001b[0mval_acc_kfold\u001b[0m \u001b[0;34m=\u001b[0m \u001b[0mtrain_model_kfold_sgd\u001b[0m\u001b[0;34m(\u001b[0m\u001b[0mmodel\u001b[0m\u001b[0;34m,\u001b[0m \u001b[0mtrain_dataset\u001b[0m\u001b[0;34m,\u001b[0m \u001b[0mkfold\u001b[0m\u001b[0;34m=\u001b[0m\u001b[0;36m2\u001b[0m\u001b[0;34m,\u001b[0m \u001b[0mshuffle\u001b[0m\u001b[0;34m=\u001b[0m\u001b[0;32mTrue\u001b[0m\u001b[0;34m,\u001b[0m \u001b[0mnb_epochs\u001b[0m \u001b[0;34m=\u001b[0m \u001b[0mnb_epochs\u001b[0m\u001b[0;34m,\u001b[0m \u001b[0mmini_batch_size\u001b[0m \u001b[0;34m=\u001b[0m \u001b[0mmini_batch\u001b[0m\u001b[0;34m,\u001b[0m \u001b[0mlr\u001b[0m \u001b[0;34m=\u001b[0m \u001b[0;36m1e-1\u001b[0m\u001b[0;34m)\u001b[0m\u001b[0;34m\u001b[0m\u001b[0m\n\u001b[0;32m----> 7\u001b[0;31m \u001b[0mplot_acc_loss\u001b[0m\u001b[0;34m(\u001b[0m\u001b[0mtrain_loss_kfold\u001b[0m\u001b[0;34m,\u001b[0m \u001b[0mval_loss_kfold\u001b[0m\u001b[0;34m,\u001b[0m \u001b[0mtrain_acc_kfold\u001b[0m\u001b[0;34m,\u001b[0m \u001b[0mval_acc_kfold\u001b[0m\u001b[0;34m)\u001b[0m\u001b[0;34m\u001b[0m\u001b[0m\n\u001b[0m",
            "\u001b[0;32m<ipython-input-6-f167bfbf962e>\u001b[0m in \u001b[0;36mplot_acc_loss\u001b[0;34m(tr_loss, te_loss, tr_acc, te_acc, title)\u001b[0m\n\u001b[1;32m      1\u001b[0m \u001b[0;32mimport\u001b[0m \u001b[0mseaborn\u001b[0m \u001b[0;32mas\u001b[0m \u001b[0msns\u001b[0m\u001b[0;34m\u001b[0m\u001b[0m\n\u001b[1;32m      2\u001b[0m \u001b[0;32mdef\u001b[0m \u001b[0mplot_acc_loss\u001b[0m\u001b[0;34m(\u001b[0m\u001b[0mtr_loss\u001b[0m\u001b[0;34m,\u001b[0m \u001b[0mte_loss\u001b[0m\u001b[0;34m,\u001b[0m \u001b[0mtr_acc\u001b[0m\u001b[0;34m,\u001b[0m \u001b[0mte_acc\u001b[0m\u001b[0;34m,\u001b[0m \u001b[0mtitle\u001b[0m\u001b[0;34m=\u001b[0m\u001b[0;34m\"MNIST\"\u001b[0m\u001b[0;34m)\u001b[0m\u001b[0;34m:\u001b[0m\u001b[0;34m\u001b[0m\u001b[0m\n\u001b[0;32m----> 3\u001b[0;31m     \u001b[0mplt\u001b[0m\u001b[0;34m.\u001b[0m\u001b[0mfigure\u001b[0m\u001b[0;34m(\u001b[0m\u001b[0;34m)\u001b[0m\u001b[0;34m\u001b[0m\u001b[0m\n\u001b[0m\u001b[1;32m      4\u001b[0m     \u001b[0mtitle\u001b[0m\u001b[0;34m=\u001b[0m\u001b[0;34m\"MNIST loss\"\u001b[0m\u001b[0;34m\u001b[0m\u001b[0m\n\u001b[1;32m      5\u001b[0m     \u001b[0msns\u001b[0m\u001b[0;34m.\u001b[0m\u001b[0mtsplot\u001b[0m\u001b[0;34m(\u001b[0m\u001b[0mnp\u001b[0m\u001b[0;34m.\u001b[0m\u001b[0marray\u001b[0m\u001b[0;34m(\u001b[0m\u001b[0mtr_loss\u001b[0m\u001b[0;34m)\u001b[0m\u001b[0;34m)\u001b[0m\u001b[0;34m.\u001b[0m\u001b[0mset_title\u001b[0m\u001b[0;34m(\u001b[0m\u001b[0mtitle\u001b[0m\u001b[0;34m)\u001b[0m\u001b[0;34m\u001b[0m\u001b[0m\n",
            "\u001b[0;31mNameError\u001b[0m: name 'plt' is not defined"
          ]
        }
      ]
    },
    {
      "metadata": {
        "id": "WyoazM75UYeK",
        "colab_type": "text"
      },
      "cell_type": "markdown",
      "source": [
        "I have not imported plt, so that was the error"
      ]
    },
    {
      "metadata": {
        "id": "KezW7k6iTx9u",
        "colab_type": "code",
        "colab": {
          "autoexec": {
            "startup": false,
            "wait_interval": 0
          },
          "base_uri": "https://localhost:8080/",
          "height": 734
        },
        "outputId": "c47bdedd-2f68-4089-e590-46f3efc6bed8",
        "executionInfo": {
          "status": "ok",
          "timestamp": 1527033857961,
          "user_tz": -120,
          "elapsed": 1791,
          "user": {
            "displayName": "Milica Novakovic",
            "photoUrl": "//lh6.googleusercontent.com/-PdM9ODluhz0/AAAAAAAAAAI/AAAAAAAAABc/XV0m45-1Nmw/s50-c-k-no/photo.jpg",
            "userId": "110546638424582068159"
          }
        }
      },
      "cell_type": "code",
      "source": [
        "plot_acc_loss(train_loss_kfold, val_loss_kfold, train_acc_kfold, val_acc_kfold)"
      ],
      "execution_count": 21,
      "outputs": [
        {
          "output_type": "display_data",
          "data": {
            "image/png": "[encoded data removed]",
            "text/plain": [
              "<matplotlib.figure.Figure at 0x7f2983796c50>"
            ]
          },
          "metadata": {
            "tags": []
          }
        },
        {
          "output_type": "display_data",
          "data": {
            "image/png": "[encoded data removed]",
            "text/plain": [
              "<matplotlib.figure.Figure at 0x7f294d36ab00>"
            ]
          },
          "metadata": {
            "tags": []
          }
        }
      ]
    },
    {
      "metadata": {
        "id": "w88ndONKv-PG",
        "colab_type": "code",
        "colab": {
          "autoexec": {
            "startup": false,
            "wait_interval": 0
          }
        }
      },
      "cell_type": "code",
      "source": [
        "# Not fixed params\n",
        "lr_list = [0.00001, 0.0001, 0.001, 0.01, 0.1]\n",
        "\n",
        "# Number of epochs we want to run\n",
        "nb_epochs = 100\n",
        "mini_batch = 100\n",
        "kfold = 3\n",
        "\n",
        "train_dataset, train_loader, test_dataset, test_loader = get_datasets(mini_batch_size = mini_batch)\n",
        "results = {'lr': [], 'train_loss':[], 'train_acc':[], 'val_loss':[], 'val_acc':[]}\n",
        "\n",
        "for lr in lr_list:\n",
        "  results['lr'] = lr\n",
        "  print(\"lr \",lr)\n",
        "  title = \"lr \"+str(lr)\n",
        "\n",
        "  train_loss_kfold, val_loss_kfold, train_acc_kfold, val_acc_kfold = train_model_kfold_sgd(model, train_dataset, kfold=kfold, shuffle=True, nb_epochs = nb_epochs, mini_batch_size = mini_batch, lr = lr)\n",
        "  # Plot\n",
        "\n",
        "  plot_acc_loss(train_loss_kfold, val_loss_kfold, train_acc_kfold, val_acc_kfold , title)\n",
        "  train_loss_kfold = np.mean(train_loss_kfold, axis = 0)\n",
        "  val_loss_kfold = np.mean(val_loss_kfold, axis = 0)\n",
        "  train_acc_kfold = np.mean(train_acc_kfold, axis = 0)\n",
        "  val_acc_kfold = np.mean(val_acc_kfold, axis = 0)\n",
        "  train_acc_kfold = np.mean(train_acc_kfold, axis = 0)\n",
        "  print(\"Train accuracy =  \",train_acc_kfold)\n",
        "\n",
        "  te_acc = np.mean(te_acc, axis = 0)\n",
        "  print(\"Val accuracy =  \",val_acc_kfold)\n",
        "\n",
        "  results['train_loss'].append(train_loss_kfold)\n",
        "  results['train_acc'].append(train_acc_kfold)\n",
        "  results['val_loss'].append(val_loss_kfold)\n",
        "  results['val_acc'].append(val_acc_kfold)"
      ],
      "execution_count": 0,
      "outputs": []
    },
    {
      "metadata": {
        "id": "n_XeMTPCLrFr",
        "colab_type": "text"
      },
      "cell_type": "markdown",
      "source": [
        "Here we plot matrix with average training and validation accuracy, and decide which number we use"
      ]
    },
    {
      "metadata": {
        "id": "ch8Owot86FtY",
        "colab_type": "code",
        "colab": {
          "autoexec": {
            "startup": false,
            "wait_interval": 0
          }
        }
      },
      "cell_type": "code",
      "source": [
        "num_of_lr = len(lr_list)\n",
        "sns.heatmap( np.reshape(np.array(results[\"train_acc\"]),(1,num_of_lr)), annot=True, xticklabels=np.reshape(np.array(nb_hidden_list),(-1,1)), yticklabels=np.reshape(np.array(conv2_list),(-1,1))).set_title('Train accuracy mean')\n",
        "plt.figure()\n",
        "sns.heatmap( np.reshape(np.array(results[\"val_acc\"]),(1,num_of_lr)), annot=True, xticklabels=np.reshape(np.array(nb_hidden_list),(-1,1)), yticklabels=np.reshape(np.array(conv2_list),(-1,1))).set_title('Validation accuracy mean')"
      ],
      "execution_count": 0,
      "outputs": []
    },
    {
      "metadata": {
        "id": "5GXdlGaSRriD",
        "colab_type": "text"
      },
      "cell_type": "markdown",
      "source": [
        "Train and test on whole datasets with some picked value"
      ]
    },
    {
      "metadata": {
        "id": "WB4oPc40R1oG",
        "colab_type": "code",
        "colab": {
          "autoexec": {
            "startup": false,
            "wait_interval": 0
          }
        }
      },
      "cell_type": "code",
      "source": [
        "train_loss_kfold, test_loss_kfold, train_acc_kfold, test_acc_kfold = train_model_kfold_sgd(model, train_dataset, test_dataset, shuffle=True, nb_epochs = nb_epochs, mini_batch_size = mini_batch, lr = 1e-1)\n",
        "plot_acc_loss(train_loss_kfold, test_loss_kfold, train_acc_kfold, test_acc_kfold)"
      ],
      "execution_count": 0,
      "outputs": []
    },
    {
      "metadata": {
        "id": "y7XCBJt_6dH2",
        "colab_type": "text"
      },
      "cell_type": "markdown",
      "source": [
        "Grid search for Adam, i.e. first find best lr, then betas"
      ]
    },
    {
      "metadata": {
        "id": "99SjCTS-LZ2f",
        "colab_type": "code",
        "colab": {
          "autoexec": {
            "startup": false,
            "wait_interval": 0
          }
        }
      },
      "cell_type": "code",
      "source": [
        "# Not fixed params\n",
        "lr_list = [0.00001, 0.0001, 0.001, 0.01, 0.1]\n",
        "\n",
        "# Number of epochs we want to run\n",
        "nb_epochs = 100\n",
        "mini_batch = 100\n",
        "kfold = 3\n",
        "\n",
        "train_dataset, train_loader, test_dataset, test_loader = get_datasets(mini_batch_size = mini_batch)\n",
        "results = {'lr': [], 'train_loss':[], 'train_acc':[], 'val_loss':[], 'val_acc':[]}\n",
        "\n",
        "for lr in lr_list:\n",
        "  results['lr'] = lr\n",
        "  print(\"lr \",lr)\n",
        "  title = \"lr \"+str(lr)\n",
        "\n",
        "  train_loss_kfold, val_loss_kfold, train_acc_kfold, val_acc_kfold = train_model_kfold_adam(model, train_dataset, kfold=kfold, shuffle=True, nb_epochs = nb_epochs, mini_batch_size = mini_batch, lr = lr)\n",
        "  # Plot\n",
        "\n",
        "  plot_acc_loss(train_loss_kfold, val_loss_kfold, train_acc_kfold, val_acc_kfold , title)\n",
        "  train_loss_kfold = np.mean(train_loss_kfold, axis = 0)\n",
        "  val_loss_kfold = np.mean(val_loss_kfold, axis = 0)\n",
        "  train_acc_kfold = np.mean(train_acc_kfold, axis = 0)\n",
        "  val_acc_kfold = np.mean(val_acc_kfold, axis = 0)\n",
        "  train_acc_kfold = np.mean(train_acc_kfold, axis = 0)\n",
        "  print(\"Train accuracy =  \",train_acc_kfold)\n",
        "\n",
        "  te_acc = np.mean(te_acc, axis = 0)\n",
        "  print(\"Val accuracy =  \",val_acc_kfold)\n",
        "\n",
        "  results['train_loss'].append(train_loss_kfold)\n",
        "  results['train_acc'].append(train_acc_kfold)\n",
        "  results['val_loss'].append(val_loss_kfold)\n",
        "  results['val_acc'].append(val_acc_kfold)"
      ],
      "execution_count": 0,
      "outputs": []
    },
    {
      "metadata": {
        "id": "GPPk9m2hRmJM",
        "colab_type": "text"
      },
      "cell_type": "markdown",
      "source": [
        "Here we plot matrix with average training and validation accuracy, and decide which number we use"
      ]
    },
    {
      "metadata": {
        "id": "efnnsb1xLoqv",
        "colab_type": "code",
        "colab": {
          "autoexec": {
            "startup": false,
            "wait_interval": 0
          }
        }
      },
      "cell_type": "code",
      "source": [
        "num_of_lr = len(lr_list)\n",
        "sns.heatmap( np.reshape(np.array(results[\"train_acc\"]),(1,num_of_lr)), annot=True, xticklabels=np.reshape(np.array(nb_hidden_list),(-1,1)), yticklabels=np.reshape(np.array(conv2_list),(-1,1))).set_title('Train accuracy mean')\n",
        "plt.figure()\n",
        "sns.heatmap( np.reshape(np.array(results[\"val_acc\"]),(1,num_of_lr)), annot=True, xticklabels=np.reshape(np.array(nb_hidden_list),(-1,1)), yticklabels=np.reshape(np.array(conv2_list),(-1,1))).set_title('Validation accuracy mean')"
      ],
      "execution_count": 0,
      "outputs": []
    },
    {
      "metadata": {
        "id": "ld7hrBerO1Tj",
        "colab_type": "text"
      },
      "cell_type": "markdown",
      "source": [
        "Find betas"
      ]
    },
    {
      "metadata": {
        "id": "LNPd4TaF6L9U",
        "colab_type": "code",
        "colab": {
          "autoexec": {
            "startup": false,
            "wait_interval": 0
          }
        }
      },
      "cell_type": "code",
      "source": [
        "# Load training dataset\n",
        "train_dataset, train_loader, test_dataset, test_loader = get_datasets(mini_batch_size = mini_batch)\n",
        "results = {'beta1': [], 'beta2':[], 'train_loss':[], 'train_acc':[], 'val_loss':[], 'val_acc':[]}\n",
        "\n",
        "# Define minibatch size\n",
        "nb_epochs = 150\n",
        "mini_batch = 100\n",
        "kfold = 3\n",
        "\n",
        "# this should be best lr\n",
        "lr = 1e-3\n",
        "beta1_list = [0.89, 0.91, 0.9]\n",
        "beta2_list = [0.99, 0.994, 0.998, 0.999]\n",
        "for beta1 in beta1_list:\n",
        "  results['beta1'] = beta1\n",
        "  for beta2 in beta2_list:\n",
        "    results['beta2'] = beta2\n",
        "    print(\"beta1 = \",beta1, \" beta2 = \", beta2)\n",
        "    title = \"beta1 = \"+str(beta1)+\" beta2 = \"+str(beta2)\n",
        "\n",
        "    train_loss_kfold, val_loss_kfold, train_acc_kfold, val_acc_kfold = train_model_kfold_adam(model, train_dataset, kfold=kfold, shuffle=True, nb_epochs = nb_epochs, mini_batch_size = mini_batch, lr = lr, beta1= beta1, beta2 = beta2)\n",
        "    # Plot\n",
        "\n",
        "    plot_acc_loss(train_loss_kfold, val_loss_kfold, train_acc_kfold, val_acc_kfold , title)\n",
        "    train_loss_kfold = np.mean(train_loss_kfold, axis = 0)\n",
        "    val_loss_kfold = np.mean(val_loss_kfold, axis = 0)\n",
        "    train_acc_kfold = np.mean(train_acc_kfold, axis = 0)\n",
        "    val_acc_kfold = np.mean(val_acc_kfold, axis = 0)\n",
        "    train_acc_kfold = np.mean(train_acc_kfold, axis = 0)\n",
        "    print(\"Train accuracy =  \",train_acc_kfold)\n",
        "\n",
        "    te_acc = np.mean(te_acc, axis = 0)\n",
        "    print(\"Val accuracy =  \",val_acc_kfold)\n",
        "\n",
        "    results['train_loss'].append(train_loss_kfold)\n",
        "    results['train_acc'].append(train_acc_kfold)\n",
        "    results['val_loss'].append(val_loss_kfold)\n",
        "    results['val_acc'].append(val_acc_kfold)"
      ],
      "execution_count": 0,
      "outputs": []
    },
    {
      "metadata": {
        "id": "a7M71WxcRnll",
        "colab_type": "text"
      },
      "cell_type": "markdown",
      "source": [
        "Pick betas"
      ]
    },
    {
      "metadata": {
        "id": "bGPyh2KfM4Yd",
        "colab_type": "code",
        "colab": {
          "autoexec": {
            "startup": false,
            "wait_interval": 0
          }
        }
      },
      "cell_type": "code",
      "source": [
        "num_b1 = len(beta1_list)\n",
        "num_b2 = len(beta2_list)\n",
        "sns.heatmap( np.reshape(np.array(results[\"train_acc\"]),(num_b1,num_b2)), annot=True, xticklabels=np.reshape(np.array(conv1_list),(-1,1)), yticklabels=np.reshape(np.array(conv2_list),(-1,1))).set_title('Training accuracy mean')\n",
        "plt.figure()\n",
        "sns.heatmap( np.reshape(np.array(results[\"val_acc\"]),(num_b1,num_b2)), annot=True, xticklabels=np.reshape(np.array(conv1_list),(-1,1)), yticklabels=np.reshape(np.array(conv2_list),(-1,1))).set_title('Validation accuracy mean')"
      ],
      "execution_count": 0,
      "outputs": []
    }
  ]
}